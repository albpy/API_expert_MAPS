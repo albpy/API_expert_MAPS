{
 "cells": [
  {
   "cell_type": "code",
   "execution_count": 38,
   "metadata": {},
   "outputs": [],
   "source": [
    "from sqlalchemy import Column, Integer, Numeric, String, Date, Index, Text, text, Float, create_engine  # The architects of our database schema, crafting the structure of our data haven.\n",
    "from sqlalchemy.orm import sessionmaker, declarative_base  # Craftsmen who build the bridge between our Pythonic realm and the database underworld.\n",
    "from sqlalchemy.exc import SQLAlchemyError\n",
    "from sqlalchemy.orm import declarative_base, sessionmaker\n",
    "\n",
    "from rapidframes import RapiDF, QueryBuilder\n",
    "\n",
    "import threading\n",
    "import warnings\n",
    "from typing import List, Dict\n",
    "import polars as pl\n",
    "import pandas as pd"
   ]
  },
  {
   "cell_type": "code",
   "execution_count": null,
   "metadata": {},
   "outputs": [],
   "source": [
    "!pip3 install -r requirements.txt  "
   ]
  },
  {
   "cell_type": "code",
   "execution_count": 39,
   "metadata": {},
   "outputs": [],
   "source": [
    "import sys\n",
    "import os"
   ]
  },
  {
   "cell_type": "markdown",
   "metadata": {},
   "source": [
    "sys.path.append('/home/ubuntu/OTB/rapidframes/')\n",
    "sys.path.append('/home/ubuntu/OTB/BMAPS/routes')"
   ]
  },
  {
   "cell_type": "code",
   "execution_count": 40,
   "metadata": {},
   "outputs": [],
   "source": [
    "import datetime\n",
    "from collections import namedtuple\n",
    "from datetime import datetime, timedelta, date\n",
    "from time import ctime\n",
    "from typing import Dict, List\n",
    "import pandas as pd\n",
    "import numpy as np\n",
    "import polars as pl\n",
    "from rapidframes import QueryBuilder, RapiDF\n",
    "from warnings import simplefilter"
   ]
  },
  {
   "cell_type": "code",
   "execution_count": 41,
   "metadata": {},
   "outputs": [
    {
     "name": "stderr",
     "output_type": "stream",
     "text": [
      "[2024-03-09 17:00:00.911] [rapidframes] [warning] LMDB path at /home/ubuntu/OTB/databases/bmaps_data/ has already been opened in this process which is not supported by LMDB. You should only open a single RapiDF instance over a given LMDB path. To continue safely, you should delete this RapiDF instance and any others over the LMDB path in this process and then try again. Current process ID=[898971]\n"
     ]
    }
   ],
   "source": [
    "STORAGE_URL = 'lmdb://databases/bmaps_data?map_size=50GB'\n",
    "rf = RapiDF(STORAGE_URL)"
   ]
  },
  {
   "cell_type": "code",
   "execution_count": 42,
   "metadata": {},
   "outputs": [
    {
     "data": {
      "text/plain": [
       "[]"
      ]
     },
     "execution_count": 42,
     "metadata": {},
     "output_type": "execute_result"
    }
   ],
   "source": [
    "# Library RA_DATA got created\n",
    "rf.get_library(\"RA_DATA\").list_symbols()"
   ]
  },
  {
   "cell_type": "code",
   "execution_count": 43,
   "metadata": {},
   "outputs": [],
   "source": [
    "LIBRARY_NAME = \"RA_DATA\""
   ]
  },
  {
   "cell_type": "code",
   "execution_count": 44,
   "metadata": {},
   "outputs": [],
   "source": [
    "class PostgresDatabaseSecretsHolder:\n",
    "    # Configuring the warehouse to store the contraband.\n",
    "    USERNAME = \"postgres\"\n",
    "    PASSWORD = \"6eA1Wyp6l'sj\"\n",
    "    HOST     = \"35.154.160.43\"\n",
    "    PORT     = \"5432\"\n",
    "    DATABASE = \"bmaps\"\n",
    "\n",
    "# Establish a connection to the MariaDB and Postgre Server, like making an untraceable phone call to an old friend.\n",
    "# Connecting to the MariaDB and Postgre Instances is akin to reaching out to a contact in a foreign land.\n",
    "# The connection stringv, a secret formula for establishing a clandestine rendezvous.\n",
    "# mariadb_connection_string = f\"mysql+pymysql://{MariaDBDatabaseSecretsHolder.USERNAME}:{MariaDBDatabaseSecretsHolder.PASSWORD}\\\n",
    "# @{MariaDBDatabaseSecretsHolder.HOST}:{MariaDBDatabaseSecretsHolder.PORT}/{MariaDBDatabaseSecretsHolder.DATABASE}\"\n",
    "\n",
    "postgres_connection_string = f\"postgresql+psycopg2://{PostgresDatabaseSecretsHolder.USERNAME}:{PostgresDatabaseSecretsHolder.PASSWORD}\\\n",
    "@{PostgresDatabaseSecretsHolder.HOST}:{PostgresDatabaseSecretsHolder.PORT}/{PostgresDatabaseSecretsHolder.DATABASE}\"\n",
    "\n",
    "# Create the engines, the heart of our operation, silent yet powerful.\n",
    "# mariadb_engine = create_engine(mariadb_connection_string)\n",
    "postgres_engine = create_engine(postgres_connection_string)\n",
    "# The blueprint of our data structure, meticulous and precise.\n",
    "Base = declarative_base()\n",
    "Session = sessionmaker(bind=postgres_engine)\n",
    "session = Session()\n",
    "\n",
    "class SalesDataTrnx(Base):\n",
    "    __tablename__ = 'salesdata_trnx'\n",
    "    ID               = Column(Integer, primary_key=True, autoincrement=True)\n",
    "    INVENTLOCATIONID = Column(String(25))\n",
    "    ITEMID           = Column(String(50))\n",
    "    SALESQTY         = Column(Numeric(15, 3))\n",
    "    LINEDISC         = Column(Numeric(15, 3))\n",
    "    LINEAMOUNT       = Column(Numeric(15, 3))\n",
    "    SALESPRICE       = Column(Numeric(15, 3))\n",
    "    COSTPRICE        = Column(Numeric(15, 3))\n",
    "    INVOICEDATE      = Column(Date())\n",
    "    channel          = Column(String(50))\n",
    "    family           = Column(String(30))\n",
    "\n",
    "    __table_args__ = (\n",
    "        Index('salesdata_trnx_INVOICEDATE_IDX', 'INVOICEDATE'),\n",
    "        Index('salesdata_trnx_ITEMID_IDX', 'ITEMID', 'INVENTLOCATIONID', 'channel', 'family'),\n",
    "        Index('salesdata_trnx_LINEAMOUNT_IDX', 'LINEAMOUNT'),\n",
    "        Index('salesdata_trnx_INVENTLOCATIONID_1_IDX', 'INVENTLOCATIONID', 'ITEMID', 'channel'),\n",
    "        Index('salesdata_trnx_INVENTLOCATIONID_2_IDX', 'INVENTLOCATIONID', 'channel', 'INVOICEDATE', 'ITEMID', 'family'),\n",
    "        Index('salesdata_trnx_family_IDX', 'family', 'ITEMID', 'LINEAMOUNT'),\n",
    "        Index('salesdata_trnx_family_amt_IDX', 'family', 'LINEAMOUNT'),\n",
    "    )\n",
    "\n",
    "class RATransactionTable(Base):\n",
    "    __tablename__ = 'ra_transaction_table'\n",
    "    \n",
    "    id = Column(Integer, primary_key=True, autoincrement=True)\n",
    "    Channel = Column(Text)\n",
    "    country = Column(Text)\n",
    "    Region = Column(Text)\n",
    "    area = Column(Text)\n",
    "    city = Column(Text)\n",
    "    StoreId = Column(Integer)\n",
    "    Store = Column(Text)\n",
    "    season = Column(Text)\n",
    "    Department = Column(Text)\n",
    "    Family = Column(Text)\n",
    "    SubFamily = Column(Text)\n",
    "    Category = Column(Text)\n",
    "    DOM_COMM = Column(Text)\n",
    "    SubCategory = Column(Text)\n",
    "    ExtendedSubCategory = Column(Text)\n",
    "    Supplier = Column(Text)\n",
    "    SubCategorySupplier = Column(Text)\n",
    "    AssemblyCodeNickName = Column(Text)\n",
    "    Status = Column(Text)\n",
    "    ENDOFLife = Column(Text)\n",
    "    Description = Column(Text)\n",
    "    ItemLookupCode = Column(Text)\n",
    "    BudgetYear = Column(Float)\n",
    "    BDate = Column(Date)\n",
    "    BudgetAmount = Column(Float)\n",
    "    UnitsBuyBySku = Column(Numeric)\n",
    "    BudgetGrossMarginP = Column(Float)\n",
    "    BudgetCost = Column(Float)\n",
    "    BudgetQTY = Column(Numeric)\n",
    "    OpeningStock = Column(Numeric)\n",
    "    ClosingStock = Column(Numeric)\n",
    "    StockReceivedQty = Column(Integer)\n",
    "    TotalPurchaseQty = Column(Numeric)\n",
    "    StockOnHandQty = Column(Numeric)\n",
    "    CurrentStockCost = Column(Float)\n",
    "    budget_quarter = Column(Text)\n",
    "    budget_month = Column(Text)\n",
    "    budget_week = Column(Text)\n",
    "    budget_day = Column(Text)"
   ]
  },
  {
   "cell_type": "code",
   "execution_count": 45,
   "metadata": {},
   "outputs": [
    {
     "name": "stdout",
     "output_type": "stream",
     "text": [
      "[INFO] FETCH ITEM_MASTER TRANSACTIONS\n"
     ]
    }
   ],
   "source": [
    "def fetch_item_data():\n",
    "    lib = rf.get_library('RA_DATA', create_if_missing=True)\n",
    "    print(f\"[INFO] FETCH ITEM_MASTER TRANSACTIONS\")\n",
    "    \n",
    "    ps_session = sessionmaker(bind=postgres_engine)\n",
    "    ps_conn    = ps_session()\n",
    "    item_data    = ps_conn.execute(text('''SELECT \"ItemLookupCode\" AS \"ITEMID\",\n",
    "                                                 MAX(\"Description\") AS \"Description\",\n",
    "                                                 MAX(\"Department\") AS \"Department\",\n",
    "                                                 MAX(\"CategoryName\") AS \"Category\",\n",
    "                                                 MAX(\"Family\") AS \"Family\",\n",
    "                                                 MAX(\"subFamily\") AS \"SubFamily\",\n",
    "                                                 MAX(\"SubCategory\") AS \"SubCategory\",\n",
    "                                                 MAX(\"ExtendedSubCategory\") AS \"ExtendedSubCategory\",\n",
    "                                                 MAX(\"SubCategorySupplier\") AS \"SubCategorySupplier\",\n",
    "                                                 MAX(\"AssemblyCodeNickname\") AS \"AssemblyCodeNickName\",\n",
    "                                                 MAX(\"ENDOFLife\") AS \"ENDOFLife\",\n",
    "                                                 MAX(\"DOM_COMM\") AS \"DOM_COMM\",\n",
    "                                                 MAX(\"Status\") AS \"Status\",\n",
    "                                                 MAX(\"Supplier\") AS \"Supplier\"\n",
    "                                                 FROM \n",
    "                                                    itemmaster\n",
    "                                                 GROUP BY \n",
    "                                                    \"ItemLookupCode\"'''))\n",
    "    item_master      = pd.DataFrame(item_data, columns=item_data.keys())\n",
    "    item_master[\"ENDOFLife\"]  = item_master[\"ENDOFLife\"].fillna(\"\")\n",
    "    item_master['ITEMID'] = item_master['ITEMID'].astype(str)\n",
    "\n",
    "    lib.write(\"item_master\", item_master, prune_previous_versions=True) # , prune_previous_versions=True\n",
    "    return lib\n",
    "lib = fetch_item_data()"
   ]
  },
  {
   "cell_type": "code",
   "execution_count": 46,
   "metadata": {},
   "outputs": [
    {
     "data": {
      "text/plain": [
       "polars.dataframe.frame.DataFrame"
      ]
     },
     "execution_count": 46,
     "metadata": {},
     "output_type": "execute_result"
    }
   ],
   "source": [
    "q = QueryBuilder()\n",
    "item_master = pl.DataFrame(rf.get_library(LIBRARY_NAME).read('item_master', query_builder=q).data)\n",
    "type(item_master.head(2))"
   ]
  },
  {
   "cell_type": "code",
   "execution_count": 47,
   "metadata": {},
   "outputs": [],
   "source": [
    "def get_type_name(val):\n",
    "    return type(val).__name__\n",
    "\n",
    "    # Apply the function to the column\n",
    "# item_master = item_master.with_columns(pl.col('ITEMID').apply(get_type_name).alias('type_name'))\n",
    "\n",
    "    # Count the values\n",
    "    # item_master = item_master.groupby('type_name').agg(pl.count('type_name'))"
   ]
  },
  {
   "cell_type": "code",
   "execution_count": 48,
   "metadata": {},
   "outputs": [],
   "source": [
    "# item_master['type_name'].value_counts()"
   ]
  },
  {
   "cell_type": "code",
   "execution_count": 49,
   "metadata": {},
   "outputs": [
    {
     "name": "stdout",
     "output_type": "stream",
     "text": [
      "[INFO] FETCH RA TRANSACTIONS\n"
     ]
    }
   ],
   "source": [
    "def fetch_ra_data():\n",
    "    lib = rf.get_library('RA_DATA', create_if_missing=True)\n",
    "\n",
    "    # Fetch RA Transactions\n",
    "    print(f\"[INFO] FETCH RA TRANSACTIONS\")\n",
    "    \n",
    "    ps_session = sessionmaker(bind=postgres_engine)\n",
    "    ps_conn    = ps_session()\n",
    "    ra_data    = ps_conn.execute(text(\"SELECT * from ra_table limit 10000000;\"))\n",
    "    ra_df      = pd.DataFrame(ra_data, columns=ra_data.keys())\n",
    "    ra_df['ITEMID'] = ra_df['ITEMID'].astype(str)\n",
    "    ra_df[\"Budget_date\"]      = pd.to_datetime(ra_df[\"Budget_date\"])\n",
    "    # ra_df[\"ENDOFLife\"]  = ra_df[\"ENDOFLife\"].fillna(\"\")\n",
    "    # cols_to_conv        = [\"ClosingStock\", \"TotalPurchaseQty\", \"StockOnHandQty\", \"UnitsBuyBySku\", \"BudgetQTY\", \"OpeningStock\"]\n",
    "    # ra_df[cols_to_conv] = ra_df[cols_to_conv].apply(pd.to_numeric)\n",
    "\n",
    "    lib.append(\"ra_trnx\", ra_df, prune_previous_versions=True)\n",
    "    ra_df = None\n",
    "\n",
    "    return lib\n",
    "\n",
    "lib = fetch_ra_data()"
   ]
  },
  {
   "cell_type": "code",
   "execution_count": 50,
   "metadata": {},
   "outputs": [
    {
     "data": {
      "text/html": [
       "<div><style>\n",
       ".dataframe > thead > tr,\n",
       ".dataframe > tbody > tr {\n",
       "  text-align: right;\n",
       "  white-space: pre-wrap;\n",
       "}\n",
       "</style>\n",
       "<small>shape: (2, 11)</small><table border=\"1\" class=\"dataframe\"><thead><tr><th>Store</th><th>area</th><th>Region</th><th>adjusted_budget_gross_margin_percent</th><th>budget_amount</th><th>budget_cost</th><th>budget_qty</th><th>ITEMID</th><th>Channel</th><th>INVENTLOCATIONID</th><th>Budget_date</th></tr><tr><td>str</td><td>str</td><td>str</td><td>f64</td><td>f64</td><td>f64</td><td>f64</td><td>str</td><td>str</td><td>str</td><td>datetime[ns]</td></tr></thead><tbody><tr><td>&quot;BTECHX Airport…</td><td>&quot;El Asher&quot;</td><td>&quot;CAIRO&quot;</td><td>20.0</td><td>0.0</td><td>-0.0</td><td>null</td><td>&quot;1BXIOMSMM2006C…</td><td>&quot;B.TECH X&quot;</td><td>&quot;Re-1502&quot;</td><td>2024-03-09 00:00:00</td></tr><tr><td>&quot;BTECHX Airport…</td><td>&quot;El Asher&quot;</td><td>&quot;CAIRO&quot;</td><td>20.0</td><td>0.0</td><td>-0.0</td><td>null</td><td>&quot;1BXIOMSMM2101K…</td><td>&quot;B.TECH X&quot;</td><td>&quot;Re-1502&quot;</td><td>2024-03-06 00:00:00</td></tr></tbody></table></div>"
      ],
      "text/plain": [
       "shape: (2, 11)\n",
       "┌────────────┬──────────┬────────┬────────────┬───┬────────────┬──────────┬────────────┬───────────┐\n",
       "│ Store      ┆ area     ┆ Region ┆ adjusted_b ┆ … ┆ ITEMID     ┆ Channel  ┆ INVENTLOCA ┆ Budget_da │\n",
       "│ ---        ┆ ---      ┆ ---    ┆ udget_gros ┆   ┆ ---        ┆ ---      ┆ TIONID     ┆ te        │\n",
       "│ str        ┆ str      ┆ str    ┆ s_margin_p ┆   ┆ str        ┆ str      ┆ ---        ┆ ---       │\n",
       "│            ┆          ┆        ┆ er…        ┆   ┆            ┆          ┆ str        ┆ datetime[ │\n",
       "│            ┆          ┆        ┆ ---        ┆   ┆            ┆          ┆            ┆ ns]       │\n",
       "│            ┆          ┆        ┆ f64        ┆   ┆            ┆          ┆            ┆           │\n",
       "╞════════════╪══════════╪════════╪════════════╪═══╪════════════╪══════════╪════════════╪═══════════╡\n",
       "│ BTECHX     ┆ El Asher ┆ CAIRO  ┆ 20.0       ┆ … ┆ 1BXIOMSMM2 ┆ B.TECH X ┆ Re-1502    ┆ 2024-03-0 │\n",
       "│ Airport    ┆          ┆        ┆            ┆   ┆ 006C3ML064 ┆          ┆            ┆ 9         │\n",
       "│            ┆          ┆        ┆            ┆   ┆            ┆          ┆            ┆ 00:00:00  │\n",
       "│ BTECHX     ┆ El Asher ┆ CAIRO  ┆ 20.0       ┆ … ┆ 1BXIOMSMM2 ┆ B.TECH X ┆ Re-1502    ┆ 2024-03-0 │\n",
       "│ Airport    ┆          ┆        ┆            ┆   ┆ 101K7AL001 ┆          ┆            ┆ 6         │\n",
       "│            ┆          ┆        ┆            ┆   ┆            ┆          ┆            ┆ 00:00:00  │\n",
       "└────────────┴──────────┴────────┴────────────┴───┴────────────┴──────────┴────────────┴───────────┘"
      ]
     },
     "execution_count": 50,
     "metadata": {},
     "output_type": "execute_result"
    }
   ],
   "source": [
    "q = QueryBuilder()\n",
    "ra_trnx = pl.DataFrame(rf.get_library(LIBRARY_NAME).read('ra_trnx', query_builder=q).data)\n",
    "ra_trnx.head(2)"
   ]
  },
  {
   "cell_type": "code",
   "execution_count": 51,
   "metadata": {},
   "outputs": [],
   "source": [
    "# ra_trnx = ra_trnx.with_columns(pl.col('ITEMID').apply(get_type_name).alias('type_name'))\n",
    "# ra_trnx['type_name'].value_counts()"
   ]
  },
  {
   "cell_type": "code",
   "execution_count": 52,
   "metadata": {},
   "outputs": [
    {
     "name": "stdout",
     "output_type": "stream",
     "text": [
      "[INFO] FETCH CURRENT SALES TRANSACTIONS\n"
     ]
    }
   ],
   "source": [
    "def fetch_cst_data():\n",
    "    lib = rf.get_library('RA_DATA', create_if_missing=True)\n",
    "\n",
    "    # Fetch CST Transactions\n",
    "    print(f\"[INFO] FETCH CURRENT SALES TRANSACTIONS\")\n",
    "    \n",
    "    ps_session            = sessionmaker(bind=postgres_engine)\n",
    "    ps_conn               = ps_session()\n",
    "    cst_data              = ps_conn.execute(text(\"SELECT * from current_sales_trnx limit 1000000;\"))\n",
    "    cst_df                = pd.DataFrame(cst_data, columns=cst_data.keys())\n",
    "    cst_df[\"INVOICEDATE\"] = pd.to_datetime(cst_df[\"INVOICEDATE\"])\n",
    "    cols_to_conv          = [\"LINEAMOUNT\", \"SALESQTY\", \"COSTPRICE\", \"gross_sales\", \"historical_year\"]\n",
    "    cst_df[cols_to_conv]  = cst_df[cols_to_conv].apply(pd.to_numeric)\n",
    "    \n",
    "    lib.write(\"cst_trnx\", cst_df, prune_previous_versions=True) # , prune_previous_versions=True\n",
    "\n",
    "    return lib\n",
    "\n",
    "\n",
    "lib = fetch_cst_data()"
   ]
  },
  {
   "cell_type": "code",
   "execution_count": 53,
   "metadata": {},
   "outputs": [],
   "source": [
    "q = QueryBuilder()\n",
    "cst_trnx  = pl.DataFrame(rf.get_library(LIBRARY_NAME).read('cst_trnx', query_builder=q).data)"
   ]
  },
  {
   "cell_type": "code",
   "execution_count": 54,
   "metadata": {},
   "outputs": [
    {
     "data": {
      "text/html": [
       "<div><style>\n",
       ".dataframe > thead > tr,\n",
       ".dataframe > tbody > tr {\n",
       "  text-align: right;\n",
       "  white-space: pre-wrap;\n",
       "}\n",
       "</style>\n",
       "<small>shape: (2, 13)</small><table border=\"1\" class=\"dataframe\"><thead><tr><th>ITEMID</th><th>channel</th><th>INVENTLOCATIONID</th><th>LINEAMOUNT</th><th>SALESQTY</th><th>COSTPRICE</th><th>gross_sales</th><th>historical_year</th><th>INVOICEDATE</th><th>history_quarter</th><th>history_month</th><th>history_week</th><th>history_day</th></tr><tr><td>str</td><td>str</td><td>str</td><td>f64</td><td>f64</td><td>f64</td><td>f64</td><td>i64</td><td>datetime[ns]</td><td>str</td><td>str</td><td>str</td><td>str</td></tr></thead><tbody><tr><td>&quot;1MFRHOBI149060…</td><td>&quot;Retail&quot;</td><td>&quot;Re-1047&quot;</td><td>-2285.0</td><td>-1.0</td><td>1378.74</td><td>-2285.0</td><td>2022</td><td>2022-12-15 00:00:00</td><td>&quot;4&quot;</td><td>&quot;December &quot;</td><td>&quot;50&quot;</td><td>&quot;Thursday &quot;</td></tr><tr><td>&quot;1MFRHOBI149060…</td><td>&quot;Retail&quot;</td><td>&quot;Re-1061&quot;</td><td>1925.0</td><td>1.0</td><td>1386.94</td><td>1925.0</td><td>2022</td><td>2022-10-19 00:00:00</td><td>&quot;4&quot;</td><td>&quot;October  &quot;</td><td>&quot;42&quot;</td><td>&quot;Wednesday&quot;</td></tr></tbody></table></div>"
      ],
      "text/plain": [
       "shape: (2, 13)\n",
       "┌────────────┬─────────┬───────────┬───────────┬───┬───────────┬───────────┬───────────┬───────────┐\n",
       "│ ITEMID     ┆ channel ┆ INVENTLOC ┆ LINEAMOUN ┆ … ┆ history_q ┆ history_m ┆ history_w ┆ history_d │\n",
       "│ ---        ┆ ---     ┆ ATIONID   ┆ T         ┆   ┆ uarter    ┆ onth      ┆ eek       ┆ ay        │\n",
       "│ str        ┆ str     ┆ ---       ┆ ---       ┆   ┆ ---       ┆ ---       ┆ ---       ┆ ---       │\n",
       "│            ┆         ┆ str       ┆ f64       ┆   ┆ str       ┆ str       ┆ str       ┆ str       │\n",
       "╞════════════╪═════════╪═══════════╪═══════════╪═══╪═══════════╪═══════════╪═══════════╪═══════════╡\n",
       "│ 1MFRHOBI14 ┆ Retail  ┆ Re-1047   ┆ -2285.0   ┆ … ┆ 4         ┆ December  ┆ 50        ┆ Thursday  │\n",
       "│ 906000L009 ┆         ┆           ┆           ┆   ┆           ┆           ┆           ┆           │\n",
       "│ 1MFRHOBI14 ┆ Retail  ┆ Re-1061   ┆ 1925.0    ┆ … ┆ 4         ┆ October   ┆ 42        ┆ Wednesday │\n",
       "│ 906000L009 ┆         ┆           ┆           ┆   ┆           ┆           ┆           ┆           │\n",
       "└────────────┴─────────┴───────────┴───────────┴───┴───────────┴───────────┴───────────┴───────────┘"
      ]
     },
     "execution_count": 54,
     "metadata": {},
     "output_type": "execute_result"
    }
   ],
   "source": [
    "cst_trnx.head(2)"
   ]
  },
  {
   "cell_type": "code",
   "execution_count": 55,
   "metadata": {},
   "outputs": [
    {
     "data": {
      "text/plain": [
       "Library(s(config=LMDB(path=/home/ubuntu/OTB/databases/bmaps_data)), path=RA_DATA, storage=lmdb_storage)"
      ]
     },
     "execution_count": 55,
     "metadata": {},
     "output_type": "execute_result"
    }
   ],
   "source": [
    "lib"
   ]
  },
  {
   "cell_type": "code",
   "execution_count": 56,
   "metadata": {},
   "outputs": [
    {
     "name": "stdout",
     "output_type": "stream",
     "text": [
      "[INFO] FETCH STOCK TRANSACTIONS\n"
     ]
    }
   ],
   "source": [
    "def fetch_stock_data():\n",
    "  lib = rf.get_library('RA_DATA', create_if_missing=True)\n",
    "\n",
    "  # Get the opening stock\n",
    "  print(f\"[INFO] FETCH STOCK TRANSACTIONS\")\n",
    "\n",
    "  ps_session = sessionmaker(bind=postgres_engine)\n",
    "  ps_conn    = ps_session()\n",
    "\n",
    "  stock_data    = ps_conn.execute(text('''\tSELECT \"ItemLookupCode\" AS \"ITEMID\" ,\n",
    "                                          \"StoreID\" AS \"INVENTLOCATIONID\",\n",
    "                                          SUM(\"Quantity\") AS \"stock_on_hand_qty\",\n",
    "                                          SUM(\"AvailableQTY\") AS \"opening_stock\",\n",
    "                                          SUM(\"AvailableQTY\") AS \"closing_stock\",\n",
    "                                          AVG(\"Price\") AS \"current_stock_cost_at_retail\",\n",
    "                                          0 AS \"stock_received_qty\",\n",
    "                                          SUM(\"Cost\") AS \"opening_stock_at_cost\",\n",
    "                                          0 AS \"adjustment_at_cost\",\n",
    "                                          0 AS \"adjustment_at_retail\",\n",
    "                                          MAX(\"SnapShotTime\") AS \"stock_date\"\n",
    "                                          FROM stock \n",
    "                                          GROUP BY \"ItemLookupCode\",\"StoreID\";\n",
    "                                    '''\n",
    "                                  ))\n",
    "  stock_df      = pd.DataFrame(stock_data, columns=stock_data.keys())\n",
    "  cols_to_conv        = [\"stock_on_hand_qty\", \"opening_stock\", \"closing_stock\", \"current_stock_cost_at_retail\"]\n",
    "  stock_df[cols_to_conv] = stock_df[cols_to_conv].apply(pd.to_numeric)\n",
    "  # problematic_rows = stock_df[pd.to_datetime(stock_df[\"stock_date\"], errors='coerce').isna()]\n",
    "  # print(problematic_rows, 'rows causing datetime err')\n",
    "  # print('hiiii')\n",
    "  stock_df[\"stock_date\"] = pd.to_datetime(stock_df[\"stock_date\"], errors='coerce')\n",
    "\n",
    "  lib.write(\"stock_trnx\", stock_df, prune_previous_versions=True)\n",
    "  # stock_df = None\n",
    "  return lib\n",
    "lib = fetch_stock_data()"
   ]
  },
  {
   "cell_type": "code",
   "execution_count": 57,
   "metadata": {},
   "outputs": [],
   "source": [
    "# type(stock_df['stock_date'].dtypes)"
   ]
  },
  {
   "cell_type": "code",
   "execution_count": 58,
   "metadata": {},
   "outputs": [],
   "source": [
    "q = QueryBuilder()\n",
    "stock_trnx = pl.DataFrame(rf.get_library(LIBRARY_NAME).read('stock_trnx', query_builder=q).data)"
   ]
  },
  {
   "cell_type": "code",
   "execution_count": 59,
   "metadata": {},
   "outputs": [
    {
     "data": {
      "text/html": [
       "<div><style>\n",
       ".dataframe > thead > tr,\n",
       ".dataframe > tbody > tr {\n",
       "  text-align: right;\n",
       "  white-space: pre-wrap;\n",
       "}\n",
       "</style>\n",
       "<small>shape: (1, 2)</small><table border=\"1\" class=\"dataframe\"><thead><tr><th>stock_date</th><th>count</th></tr><tr><td>datetime[ns]</td><td>u32</td></tr></thead><tbody><tr><td>2024-02-07 00:00:00</td><td>112289</td></tr></tbody></table></div>"
      ],
      "text/plain": [
       "shape: (1, 2)\n",
       "┌─────────────────────┬────────┐\n",
       "│ stock_date          ┆ count  │\n",
       "│ ---                 ┆ ---    │\n",
       "│ datetime[ns]        ┆ u32    │\n",
       "╞═════════════════════╪════════╡\n",
       "│ 2024-02-07 00:00:00 ┆ 112289 │\n",
       "└─────────────────────┴────────┘"
      ]
     },
     "execution_count": 59,
     "metadata": {},
     "output_type": "execute_result"
    }
   ],
   "source": [
    "stock_trnx['stock_date'].value_counts()"
   ]
  },
  {
   "cell_type": "code",
   "execution_count": 60,
   "metadata": {},
   "outputs": [
    {
     "name": "stdout",
     "output_type": "stream",
     "text": [
      "INFO OF CLOSING IS AVAILABLE TILL :2024-02-07 AND CURRENT DATE IS: 2024-03-09\n"
     ]
    }
   ],
   "source": [
    "maximum_stock_available_date = datetime.date(stock_trnx['stock_date'].dt.max())\n",
    "today_is = date.today()\n",
    "print(f\"INFO OF CLOSING IS AVAILABLE TILL :{maximum_stock_available_date} AND CURRENT DATE IS: {today_is}\")"
   ]
  },
  {
   "cell_type": "code",
   "execution_count": 61,
   "metadata": {},
   "outputs": [],
   "source": [
    "if maximum_stock_available_date < date.today(): \n",
    "    cst_trnx = cst_trnx.with_columns((pl.when(cst_trnx['INVOICEDATE'].cast(pl.Date) > maximum_stock_available_date, cst_trnx['INVOICEDATE'].cast(pl.Date) < today_is)\n",
    "                                                    .then(cst_trnx['SALESQTY'])\n",
    "                                                    .otherwise(0)).alias('to_calculate_the_stock_till_now'))"
   ]
  },
  {
   "cell_type": "code",
   "execution_count": 62,
   "metadata": {},
   "outputs": [],
   "source": [
    "sales_df = cst_trnx.to_pandas()"
   ]
  },
  {
   "cell_type": "code",
   "execution_count": 63,
   "metadata": {},
   "outputs": [
    {
     "data": {
      "text/plain": [
       "VersionedItem(symbol='cst_trnx', library='RA_DATA', data=n/a, version=1, metadata=None, host='LMDB(path=/home/ubuntu/OTB/databases/bmaps_data)')"
      ]
     },
     "execution_count": 63,
     "metadata": {},
     "output_type": "execute_result"
    }
   ],
   "source": [
    "# sales_df.head()\n",
    "lib.write(\"cst_trnx\", sales_df, prune_previous_versions=True)"
   ]
  },
  {
   "cell_type": "code",
   "execution_count": 64,
   "metadata": {},
   "outputs": [
    {
     "data": {
      "text/html": [
       "<div><style>\n",
       ".dataframe > thead > tr,\n",
       ".dataframe > tbody > tr {\n",
       "  text-align: right;\n",
       "  white-space: pre-wrap;\n",
       "}\n",
       "</style>\n",
       "<small>shape: (2, 11)</small><table border=\"1\" class=\"dataframe\"><thead><tr><th>ITEMID</th><th>INVENTLOCATIONID</th><th>stock_on_hand_qty</th><th>opening_stock</th><th>closing_stock</th><th>current_stock_cost_at_retail</th><th>stock_received_qty</th><th>opening_stock_at_cost</th><th>adjustment_at_cost</th><th>adjustment_at_retail</th><th>stock_date</th></tr><tr><td>str</td><td>str</td><td>f64</td><td>f64</td><td>f64</td><td>f64</td><td>i64</td><td>f64</td><td>i64</td><td>i64</td><td>datetime[ns]</td></tr></thead><tbody><tr><td>&quot;1STCIRST404010…</td><td>&quot;Re-1006&quot;</td><td>2.0</td><td>0.0</td><td>0.0</td><td>0.0</td><td>0</td><td>0.0</td><td>0</td><td>0</td><td>2024-02-07 00:00:00</td></tr><tr><td>&quot;1BSAASMCVIVOY3…</td><td>&quot;Re-1026&quot;</td><td>3.0</td><td>3.0</td><td>3.0</td><td>0.0</td><td>0</td><td>0.0</td><td>0</td><td>0</td><td>2024-02-07 00:00:00</td></tr></tbody></table></div>"
      ],
      "text/plain": [
       "shape: (2, 11)\n",
       "┌───────────┬───────────┬───────────┬───────────┬───┬───────────┬───────────┬───────────┬──────────┐\n",
       "│ ITEMID    ┆ INVENTLOC ┆ stock_on_ ┆ opening_s ┆ … ┆ opening_s ┆ adjustmen ┆ adjustmen ┆ stock_da │\n",
       "│ ---       ┆ ATIONID   ┆ hand_qty  ┆ tock      ┆   ┆ tock_at_c ┆ t_at_cost ┆ t_at_reta ┆ te       │\n",
       "│ str       ┆ ---       ┆ ---       ┆ ---       ┆   ┆ ost       ┆ ---       ┆ il        ┆ ---      │\n",
       "│           ┆ str       ┆ f64       ┆ f64       ┆   ┆ ---       ┆ i64       ┆ ---       ┆ datetime │\n",
       "│           ┆           ┆           ┆           ┆   ┆ f64       ┆           ┆ i64       ┆ [ns]     │\n",
       "╞═══════════╪═══════════╪═══════════╪═══════════╪═══╪═══════════╪═══════════╪═══════════╪══════════╡\n",
       "│ 1STCIRST4 ┆ Re-1006   ┆ 2.0       ┆ 0.0       ┆ … ┆ 0.0       ┆ 0         ┆ 0         ┆ 2024-02- │\n",
       "│ 0401000L0 ┆           ┆           ┆           ┆   ┆           ┆           ┆           ┆ 07       │\n",
       "│ 00        ┆           ┆           ┆           ┆   ┆           ┆           ┆           ┆ 00:00:00 │\n",
       "│ 1BSAASMCV ┆ Re-1026   ┆ 3.0       ┆ 3.0       ┆ … ┆ 0.0       ┆ 0         ┆ 0         ┆ 2024-02- │\n",
       "│ IVOY360L0 ┆           ┆           ┆           ┆   ┆           ┆           ┆           ┆ 07       │\n",
       "│ 00        ┆           ┆           ┆           ┆   ┆           ┆           ┆           ┆ 00:00:00 │\n",
       "└───────────┴───────────┴───────────┴───────────┴───┴───────────┴───────────┴───────────┴──────────┘"
      ]
     },
     "execution_count": 64,
     "metadata": {},
     "output_type": "execute_result"
    }
   ],
   "source": [
    "stock_trnx.head(2)"
   ]
  },
  {
   "cell_type": "code",
   "execution_count": 65,
   "metadata": {},
   "outputs": [
    {
     "data": {
      "text/plain": [
       "datetime.date(2024, 2, 7)"
      ]
     },
     "execution_count": 65,
     "metadata": {},
     "output_type": "execute_result"
    }
   ],
   "source": [
    "type(stock_trnx['stock_date'][0])\n",
    "stock_trnx['stock_date'][0]\n",
    "datetime.date(stock_trnx['stock_date'][0])"
   ]
  },
  {
   "cell_type": "code",
   "execution_count": 66,
   "metadata": {},
   "outputs": [
    {
     "name": "stdout",
     "output_type": "stream",
     "text": [
      "[INFO] FETCH KPI TRANSACTIONS\n"
     ]
    }
   ],
   "source": [
    "def fetch_kpi_data():\n",
    "    lib = rf.get_library('RA_DATA', create_if_missing=True)\n",
    "\n",
    "    # Get the opening stock\n",
    "    print(f\"[INFO] FETCH KPI TRANSACTIONS\")\n",
    "\n",
    "    ps_session = sessionmaker(bind=postgres_engine)\n",
    "    ps_conn    = ps_session()\n",
    "\n",
    "    kpi_data    = ps_conn.execute(text(\"SELECT * from kpi_table;\"))\n",
    "    kpi_df      = pd.DataFrame(kpi_data, columns=kpi_data.keys())\n",
    "\n",
    "    # ra_df[\"Budget_date\"]      = pd.to_datetime(ra_df[\"Budget_date\"])\n",
    "    # ra_df[\"ENDOFLife\"]  = ra_df[\"ENDOFLife\"].fillna(\"\")\n",
    "    # cols_to_conv        = [\"budget_qty\"]\n",
    "\n",
    "    # cols_to_conv        = [\"ClosingStock\", \"TotalPurchaseQty\", \"StockOnHandQty\", \"UnitsBuyBySku\", \"BudgetQTY\", \"OpeningStock\"]\n",
    "    # ra_df[cols_to_conv] = ra_df[cols_to_conv].apply(pd.to_numeric)\n",
    "  \n",
    "    lib.write(\"kpi_trnx\", kpi_df, prune_previous_versions=True)#,prune_previous_versions=True\n",
    "    return lib\n",
    "lib = fetch_kpi_data()\n"
   ]
  },
  {
   "cell_type": "code",
   "execution_count": 67,
   "metadata": {},
   "outputs": [
    {
     "name": "stdout",
     "output_type": "stream",
     "text": [
      "Library(s(config=LMDB(path=/home/ubuntu/OTB/databases/bmaps_data)), path=RA_DATA, storage=lmdb_storage)\n"
     ]
    }
   ],
   "source": [
    "print(lib)"
   ]
  },
  {
   "cell_type": "code",
   "execution_count": 68,
   "metadata": {},
   "outputs": [
    {
     "data": {
      "text/html": [
       "<div><style>\n",
       ".dataframe > thead > tr,\n",
       ".dataframe > tbody > tr {\n",
       "  text-align: right;\n",
       "  white-space: pre-wrap;\n",
       "}\n",
       "</style>\n",
       "<small>shape: (2, 15)</small><table border=\"1\" class=\"dataframe\"><thead><tr><th>ITEMID</th><th>article_score_sale</th><th>article_score_abc</th><th>article_score_ae</th><th>article_score_speed</th><th>article_score_terminal</th><th>article_score_margin</th><th>article_score_sell</th><th>article_score_markdown</th><th>article_score_core</th><th>article_score_quartile</th><th>article_score_sortimeter</th><th>btech_vs_sortimeter</th><th>store_sku_count</th><th>price</th></tr><tr><td>str</td><td>f64</td><td>f64</td><td>f64</td><td>f64</td><td>f64</td><td>f64</td><td>f64</td><td>f64</td><td>f64</td><td>f64</td><td>f64</td><td>f64</td><td>f64</td><td>f64</td></tr></thead><tbody><tr><td>&quot;1BNOOMSMNKC102…</td><td>0.000562</td><td>0.000749</td><td>0.0</td><td>0.0</td><td>0.0</td><td>0.0</td><td>0.0</td><td>0.0</td><td>0.0</td><td>0.0</td><td>0.0</td><td>0.0</td><td>0.0</td><td>0.0</td></tr><tr><td>&quot;1MWPWDFSWPWD01…</td><td>0.0</td><td>0.0</td><td>0.0</td><td>0.0</td><td>0.0</td><td>0.0</td><td>0.0</td><td>0.0</td><td>0.0</td><td>0.0</td><td>0.0</td><td>0.0</td><td>0.0</td><td>0.0</td></tr></tbody></table></div>"
      ],
      "text/plain": [
       "shape: (2, 15)\n",
       "┌────────────┬────────────┬────────────┬───────────┬───┬───────────┬───────────┬───────────┬───────┐\n",
       "│ ITEMID     ┆ article_sc ┆ article_sc ┆ article_s ┆ … ┆ article_s ┆ btech_vs_ ┆ store_sku ┆ price │\n",
       "│ ---        ┆ ore_sale   ┆ ore_abc    ┆ core_ae   ┆   ┆ core_sort ┆ sortimete ┆ _count    ┆ ---   │\n",
       "│ str        ┆ ---        ┆ ---        ┆ ---       ┆   ┆ imeter    ┆ r         ┆ ---       ┆ f64   │\n",
       "│            ┆ f64        ┆ f64        ┆ f64       ┆   ┆ ---       ┆ ---       ┆ f64       ┆       │\n",
       "│            ┆            ┆            ┆           ┆   ┆ f64       ┆ f64       ┆           ┆       │\n",
       "╞════════════╪════════════╪════════════╪═══════════╪═══╪═══════════╪═══════════╪═══════════╪═══════╡\n",
       "│ 1BNOOMSMNK ┆ 0.000562   ┆ 0.000749   ┆ 0.0       ┆ … ┆ 0.0       ┆ 0.0       ┆ 0.0       ┆ 0.0   │\n",
       "│ C10232L020 ┆            ┆            ┆           ┆   ┆           ┆           ┆           ┆       │\n",
       "│ 1MWPWDFSWP ┆ 0.0        ┆ 0.0        ┆ 0.0       ┆ … ┆ 0.0       ┆ 0.0       ┆ 0.0       ┆ 0.0   │\n",
       "│ WD01CSF008 ┆            ┆            ┆           ┆   ┆           ┆           ┆           ┆       │\n",
       "└────────────┴────────────┴────────────┴───────────┴───┴───────────┴───────────┴───────────┴───────┘"
      ]
     },
     "execution_count": 68,
     "metadata": {},
     "output_type": "execute_result"
    }
   ],
   "source": [
    "q = QueryBuilder()\n",
    "kpi_trnx  = pl.DataFrame(rf.get_library(LIBRARY_NAME).read(\"kpi_trnx\", query_builder=q).data)\n",
    "kpi_trnx.head(2)"
   ]
  },
  {
   "cell_type": "code",
   "execution_count": 69,
   "metadata": {},
   "outputs": [
    {
     "data": {
      "text/plain": [
       "['RA_DATA']"
      ]
     },
     "execution_count": 69,
     "metadata": {},
     "output_type": "execute_result"
    }
   ],
   "source": [
    "rf.list_libraries()"
   ]
  },
  {
   "cell_type": "code",
   "execution_count": 70,
   "metadata": {},
   "outputs": [
    {
     "name": "stdout",
     "output_type": "stream",
     "text": [
      "(stock_trnx_v0, (date=2024-03-09 17:03:08.848740049+00:00))\n",
      "(ra_trnx_v0, (date=2024-03-09 17:01:14.187263679+00:00))\n",
      "(kpi_trnx_v0, (date=2024-03-09 17:03:20.617166098+00:00))\n",
      "(item_master_v0, (date=2024-03-09 17:00:14.636301497+00:00))\n",
      "(cst_trnx_v1, (date=2024-03-09 17:03:17.406120906+00:00))\n",
      "(stock_trnx_v0, (date=2024-03-09 17:03:08.848740049+00:00)) (ra_trnx_v0, (date=2024-03-09 17:01:14.187263679+00:00)) (kpi_trnx_v0, (date=2024-03-09 17:03:20.617166098+00:00)) (item_master_v0, (date=2024-03-09 17:00:14.636301497+00:00)) (cst_trnx_v1, (date=2024-03-09 17:03:17.406120906+00:00)) the symbol version\n"
     ]
    }
   ],
   "source": [
    "print(*map(lambda item:(print(item), item)[1], lib.list_versions().items()), 'the symbol version')"
   ]
  },
  {
   "cell_type": "code",
   "execution_count": 71,
   "metadata": {},
   "outputs": [],
   "source": [
    "import rapidframes\n",
    "class rapidframe_symbols:\n",
    "    #Class attributes\n",
    "    ITEM_MASTER  = 'item_master'\n",
    "    RA_TRNX      = 'ra_trnx'\n",
    "    CST_TRNX     = 'cst_trnx'\n",
    "    STOCK_TRNX   = 'stock_trnx'\n",
    "    KPI_TRNX     = 'kpi_trnx'\n",
    "    # Join the symbols\n",
    "    ITEM_RA      = 'item_ra_joined'\n",
    "    RA_STOCK     = 'ra_stock_joined'\n",
    "    STOCK_CST    = 'stock_cst_joined'\n",
    "    CST_KPI      = 'cst_kpi_joined'\n",
    "    \n",
    "    def combine_the_rapid_frame_symbols(self, rf : rapidframes.repidf.RapiDF, Stack : str, First, Last, LIBRARY_NAME, join_element):\n",
    "        \n",
    "        rf.get_library(LIBRARY_NAME).write(\n",
    "            Stack,\n",
    "            First.join(Last,\n",
    "            on=join_element,\n",
    "            how='left' \n",
    "            ).to_pandas(), prune_previous_versions=True\n",
    "        )\n",
    "# symbols = rapidframe_symbols()"
   ]
  },
  {
   "cell_type": "code",
   "execution_count": 72,
   "metadata": {},
   "outputs": [],
   "source": [
    "# symbols.combine_the_rapid_frame_symbols(rf, symbols.ITEM_RA, item_master, ra_trnx, LIBRARY_NAME, list('ITEMID'))"
   ]
  },
  {
   "cell_type": "code",
   "execution_count": 73,
   "metadata": {},
   "outputs": [
    {
     "data": {
      "text/plain": [
       "VersionedItem(symbol='ra_item_joined', library='RA_DATA', data=n/a, version=0, metadata=None, host='LMDB(path=/home/ubuntu/OTB/databases/bmaps_data)')"
      ]
     },
     "execution_count": 73,
     "metadata": {},
     "output_type": "execute_result"
    }
   ],
   "source": [
    "rf.get_library(LIBRARY_NAME).write(\n",
    "            'ra_item_joined',\n",
    "            ra_trnx.join(item_master,\n",
    "            on=['ITEMID'],\n",
    "            how='left' \n",
    "            ).to_pandas(), prune_previous_versions=True\n",
    "        )"
   ]
  },
  {
   "cell_type": "code",
   "execution_count": 74,
   "metadata": {},
   "outputs": [],
   "source": [
    "q=QueryBuilder()\n",
    "ra_item_joined = pl.DataFrame(rf.get_library(LIBRARY_NAME).read('ra_item_joined', query_builder=q).data)"
   ]
  },
  {
   "cell_type": "code",
   "execution_count": 75,
   "metadata": {},
   "outputs": [
    {
     "data": {
      "text/plain": [
       "VersionedItem(symbol='ra_stock_joined', library='RA_DATA', data=n/a, version=0, metadata=None, host='LMDB(path=/home/ubuntu/OTB/databases/bmaps_data)')"
      ]
     },
     "execution_count": 75,
     "metadata": {},
     "output_type": "execute_result"
    }
   ],
   "source": [
    "rf.get_library(LIBRARY_NAME).write(\n",
    "            'ra_stock_joined',\n",
    "            ra_item_joined.join(stock_trnx,\n",
    "            on=['ITEMID'],\n",
    "            how='left' \n",
    "            ).to_pandas(), prune_previous_versions=True\n",
    "        )"
   ]
  },
  {
   "cell_type": "code",
   "execution_count": 76,
   "metadata": {},
   "outputs": [],
   "source": [
    "q=QueryBuilder()\n",
    "ra_stock_joined = pl.DataFrame(rf.get_library(LIBRARY_NAME).read('ra_stock_joined', query_builder=q).data)\n",
    "# ra_stock_joined.dtypes"
   ]
  },
  {
   "cell_type": "code",
   "execution_count": 77,
   "metadata": {},
   "outputs": [
    {
     "data": {
      "text/plain": [
       "datetime.datetime(2021, 1, 1, 0, 0)"
      ]
     },
     "execution_count": 77,
     "metadata": {},
     "output_type": "execute_result"
    }
   ],
   "source": [
    "cst_trnx['INVOICEDATE'].cast(pl.Date)[0]\n",
    "cst_trnx['INVOICEDATE'].dt.min()"
   ]
  },
  {
   "cell_type": "code",
   "execution_count": 78,
   "metadata": {},
   "outputs": [
    {
     "data": {
      "text/html": [
       "<div><style>\n",
       ".dataframe > thead > tr,\n",
       ".dataframe > tbody > tr {\n",
       "  text-align: right;\n",
       "  white-space: pre-wrap;\n",
       "}\n",
       "</style>\n",
       "<small>shape: (220_449,)</small><table border=\"1\" class=\"dataframe\"><thead><tr><th>column</th></tr><tr><td>str</td></tr></thead><tbody><tr><td>&quot;COSTPRICE&quot;</td></tr><tr><td>&quot;LINEAMOUNT&quot;</td></tr><tr><td>&quot;COSTPRICE&quot;</td></tr><tr><td>&quot;LINEAMOUNT&quot;</td></tr><tr><td>&quot;COSTPRICE&quot;</td></tr><tr><td>&quot;COSTPRICE&quot;</td></tr><tr><td>&quot;LINEAMOUNT&quot;</td></tr><tr><td>&quot;LINEAMOUNT&quot;</td></tr><tr><td>&quot;gross_sales&quot;</td></tr><tr><td>&quot;LINEAMOUNT&quot;</td></tr><tr><td>&quot;COSTPRICE&quot;</td></tr><tr><td>&quot;gross_sales&quot;</td></tr><tr><td>&hellip;</td></tr><tr><td>&quot;LINEAMOUNT&quot;</td></tr><tr><td>&quot;gross_sales&quot;</td></tr><tr><td>&quot;LINEAMOUNT&quot;</td></tr><tr><td>&quot;COSTPRICE&quot;</td></tr><tr><td>&quot;COSTPRICE&quot;</td></tr><tr><td>&quot;gross_sales&quot;</td></tr><tr><td>&quot;COSTPRICE&quot;</td></tr><tr><td>&quot;COSTPRICE&quot;</td></tr><tr><td>&quot;gross_sales&quot;</td></tr><tr><td>&quot;ITEMID&quot;</td></tr><tr><td>&quot;COSTPRICE&quot;</td></tr><tr><td>&quot;ITEMID&quot;</td></tr></tbody></table></div>"
      ],
      "text/plain": [
       "shape: (220_449,)\n",
       "Series: 'column' [str]\n",
       "[\n",
       "\t\"COSTPRICE\"\n",
       "\t\"LINEAMOUNT\"\n",
       "\t\"COSTPRICE\"\n",
       "\t\"LINEAMOUNT\"\n",
       "\t\"COSTPRICE\"\n",
       "\t\"COSTPRICE\"\n",
       "\t\"LINEAMOUNT\"\n",
       "\t\"LINEAMOUNT\"\n",
       "\t\"gross_sales\"\n",
       "\t\"LINEAMOUNT\"\n",
       "\t\"COSTPRICE\"\n",
       "\t\"gross_sales\"\n",
       "\t…\n",
       "\t\"LINEAMOUNT\"\n",
       "\t\"LINEAMOUNT\"\n",
       "\t\"gross_sales\"\n",
       "\t\"LINEAMOUNT\"\n",
       "\t\"COSTPRICE\"\n",
       "\t\"COSTPRICE\"\n",
       "\t\"gross_sales\"\n",
       "\t\"COSTPRICE\"\n",
       "\t\"COSTPRICE\"\n",
       "\t\"gross_sales\"\n",
       "\t\"ITEMID\"\n",
       "\t\"COSTPRICE\"\n",
       "\t\"ITEMID\"\n",
       "]"
      ]
     },
     "execution_count": 78,
     "metadata": {},
     "output_type": "execute_result"
    }
   ],
   "source": [
    "cst_trnx.melt(variable_name=\"column\").group_by(pl.all()).len()['column']"
   ]
  },
  {
   "cell_type": "code",
   "execution_count": 79,
   "metadata": {},
   "outputs": [
    {
     "data": {
      "text/plain": [
       "VersionedItem(symbol='ra_kpi_joined', library='RA_DATA', data=n/a, version=0, metadata=None, host='LMDB(path=/home/ubuntu/OTB/databases/bmaps_data)')"
      ]
     },
     "execution_count": 79,
     "metadata": {},
     "output_type": "execute_result"
    }
   ],
   "source": [
    "rf.get_library(LIBRARY_NAME).write(\n",
    "            'ra_kpi_joined',\n",
    "            ra_stock_joined.join(kpi_trnx,\n",
    "            on=['ITEMID'],\n",
    "            how='left' \n",
    "            ).to_pandas(), prune_previous_versions=True\n",
    "        )"
   ]
  },
  {
   "cell_type": "code",
   "execution_count": null,
   "metadata": {},
   "outputs": [
    {
     "ename": "KeyboardInterrupt",
     "evalue": "",
     "output_type": "error",
     "traceback": [
      "\u001b[0;31m---------------------------------------------------------------------------\u001b[0m",
      "\u001b[0;31mKeyboardInterrupt\u001b[0m                         Traceback (most recent call last)",
      "Cell \u001b[0;32mIn[80], line 2\u001b[0m\n\u001b[1;32m      1\u001b[0m q\u001b[38;5;241m=\u001b[39mQueryBuilder()\n\u001b[0;32m----> 2\u001b[0m ra_kpi_joined  \u001b[38;5;241m=\u001b[39m pl\u001b[38;5;241m.\u001b[39mDataFrame(\u001b[43mrf\u001b[49m\u001b[38;5;241;43m.\u001b[39;49m\u001b[43mget_library\u001b[49m\u001b[43m(\u001b[49m\u001b[43mLIBRARY_NAME\u001b[49m\u001b[43m)\u001b[49m\u001b[38;5;241;43m.\u001b[39;49m\u001b[43mread\u001b[49m\u001b[43m(\u001b[49m\u001b[38;5;124;43m'\u001b[39;49m\u001b[38;5;124;43mra_kpi_joined\u001b[39;49m\u001b[38;5;124;43m'\u001b[39;49m\u001b[43m,\u001b[49m\u001b[43m \u001b[49m\u001b[43mquery_builder\u001b[49m\u001b[38;5;241;43m=\u001b[39;49m\u001b[43mq\u001b[49m\u001b[43m)\u001b[49m\u001b[38;5;241m.\u001b[39mdata)\n",
      "File \u001b[0;32m~/OTB/rapidframes/version_store/library.py:983\u001b[0m, in \u001b[0;36mLibrary.read\u001b[0;34m(self, symbol, as_of, date_range, columns, query_builder)\u001b[0m\n\u001b[1;32m    918\u001b[0m \u001b[38;5;28;01mdef\u001b[39;00m \u001b[38;5;21mread\u001b[39m(\n\u001b[1;32m    919\u001b[0m     \u001b[38;5;28mself\u001b[39m,\n\u001b[1;32m    920\u001b[0m     symbol: \u001b[38;5;28mstr\u001b[39m,\n\u001b[0;32m   (...)\u001b[0m\n\u001b[1;32m    924\u001b[0m     query_builder: Optional[QueryBuilder] \u001b[38;5;241m=\u001b[39m \u001b[38;5;28;01mNone\u001b[39;00m,\n\u001b[1;32m    925\u001b[0m ) \u001b[38;5;241m-\u001b[39m\u001b[38;5;241m>\u001b[39m VersionedItem:\n\u001b[1;32m    926\u001b[0m \u001b[38;5;250m    \u001b[39m\u001b[38;5;124;03m\"\"\"\u001b[39;00m\n\u001b[1;32m    927\u001b[0m \u001b[38;5;124;03m    Read data for the named symbol.  Returns a VersionedItem object with a data and metadata element (as passed into\u001b[39;00m\n\u001b[1;32m    928\u001b[0m \u001b[38;5;124;03m    write).\u001b[39;00m\n\u001b[0;32m   (...)\u001b[0m\n\u001b[1;32m    981\u001b[0m \u001b[38;5;124;03m    2       7\u001b[39;00m\n\u001b[1;32m    982\u001b[0m \u001b[38;5;124;03m    \"\"\"\u001b[39;00m\n\u001b[0;32m--> 983\u001b[0m     \u001b[38;5;28;01mreturn\u001b[39;00m \u001b[38;5;28;43mself\u001b[39;49m\u001b[38;5;241;43m.\u001b[39;49m\u001b[43m_nvs\u001b[49m\u001b[38;5;241;43m.\u001b[39;49m\u001b[43mread\u001b[49m\u001b[43m(\u001b[49m\n\u001b[1;32m    984\u001b[0m \u001b[43m        \u001b[49m\u001b[43msymbol\u001b[49m\u001b[38;5;241;43m=\u001b[39;49m\u001b[43msymbol\u001b[49m\u001b[43m,\u001b[49m\u001b[43m \u001b[49m\u001b[43mas_of\u001b[49m\u001b[38;5;241;43m=\u001b[39;49m\u001b[43mas_of\u001b[49m\u001b[43m,\u001b[49m\u001b[43m \u001b[49m\u001b[43mdate_range\u001b[49m\u001b[38;5;241;43m=\u001b[39;49m\u001b[43mdate_range\u001b[49m\u001b[43m,\u001b[49m\u001b[43m \u001b[49m\u001b[43mcolumns\u001b[49m\u001b[38;5;241;43m=\u001b[39;49m\u001b[43mcolumns\u001b[49m\u001b[43m,\u001b[49m\u001b[43m \u001b[49m\u001b[43mquery_builder\u001b[49m\u001b[38;5;241;43m=\u001b[39;49m\u001b[43mquery_builder\u001b[49m\n\u001b[1;32m    985\u001b[0m \u001b[43m    \u001b[49m\u001b[43m)\u001b[49m\n",
      "File \u001b[0;32m~/OTB/rapidframes/version_store/_store.py:1652\u001b[0m, in \u001b[0;36mNativeVersionStore.read\u001b[0;34m(self, symbol, as_of, date_range, row_range, columns, query_builder, **kwargs)\u001b[0m\n\u001b[1;32m   1648\u001b[0m     query_builder \u001b[38;5;241m=\u001b[39m q\u001b[38;5;241m.\u001b[39mdate_range(date_range)\u001b[38;5;241m.\u001b[39mthen(query_builder)\n\u001b[1;32m   1649\u001b[0m version_query, read_options, read_query \u001b[38;5;241m=\u001b[39m \u001b[38;5;28mself\u001b[39m\u001b[38;5;241m.\u001b[39m_get_queries(\n\u001b[1;32m   1650\u001b[0m     as_of, date_range, row_range, columns, query_builder, \u001b[38;5;241m*\u001b[39m\u001b[38;5;241m*\u001b[39mkwargs\n\u001b[1;32m   1651\u001b[0m )\n\u001b[0;32m-> 1652\u001b[0m read_result \u001b[38;5;241m=\u001b[39m \u001b[38;5;28;43mself\u001b[39;49m\u001b[38;5;241;43m.\u001b[39;49m\u001b[43m_read_dataframe\u001b[49m\u001b[43m(\u001b[49m\u001b[43msymbol\u001b[49m\u001b[43m,\u001b[49m\u001b[43m \u001b[49m\u001b[43mversion_query\u001b[49m\u001b[43m,\u001b[49m\u001b[43m \u001b[49m\u001b[43mread_query\u001b[49m\u001b[43m,\u001b[49m\u001b[43m \u001b[49m\u001b[43mread_options\u001b[49m\u001b[43m)\u001b[49m\n\u001b[1;32m   1653\u001b[0m \u001b[38;5;28;01mreturn\u001b[39;00m \u001b[38;5;28mself\u001b[39m\u001b[38;5;241m.\u001b[39m_post_process_dataframe(read_result, read_query, query_builder)\n",
      "File \u001b[0;32m~/OTB/rapidframes/version_store/_store.py:1719\u001b[0m, in \u001b[0;36mNativeVersionStore._read_dataframe\u001b[0;34m(self, symbol, version_query, read_query, read_options)\u001b[0m\n\u001b[1;32m   1718\u001b[0m \u001b[38;5;28;01mdef\u001b[39;00m \u001b[38;5;21m_read_dataframe\u001b[39m(\u001b[38;5;28mself\u001b[39m, symbol, version_query, read_query, read_options):\n\u001b[0;32m-> 1719\u001b[0m     \u001b[38;5;28;01mreturn\u001b[39;00m ReadResult(\u001b[38;5;241m*\u001b[39m\u001b[38;5;28;43mself\u001b[39;49m\u001b[38;5;241;43m.\u001b[39;49m\u001b[43mversion_store\u001b[49m\u001b[38;5;241;43m.\u001b[39;49m\u001b[43mread_dataframe_version\u001b[49m\u001b[43m(\u001b[49m\u001b[43msymbol\u001b[49m\u001b[43m,\u001b[49m\u001b[43m \u001b[49m\u001b[43mversion_query\u001b[49m\u001b[43m,\u001b[49m\u001b[43m \u001b[49m\u001b[43mread_query\u001b[49m\u001b[43m,\u001b[49m\u001b[43m \u001b[49m\u001b[43mread_options\u001b[49m\u001b[43m)\u001b[49m)\n",
      "\u001b[0;31mKeyboardInterrupt\u001b[0m: "
     ]
    }
   ],
   "source": [
    "q=QueryBuilder()\n",
    "ra_kpi_joined  = pl.DataFrame(rf.get_library(LIBRARY_NAME).read('ra_kpi_joined', query_builder=q).data)"
   ]
  },
  {
   "cell_type": "code",
   "execution_count": null,
   "metadata": {},
   "outputs": [],
   "source": [
    "print(*map(lambda item:(print(item), item)[1], dict(zip(ra_kpi_joined.columns, ra_kpi_joined.dtypes)).items()), 'the symbol version')"
   ]
  },
  {
   "cell_type": "code",
   "execution_count": 87,
   "metadata": {},
   "outputs": [],
   "source": [
    "def filter_symbol(rf: RapiDF, library_name: str, symbol_name: str, columns: List[str]=None, filter_set: Dict[str, str | int | list]= {}, return_as_pl: bool=True):\n",
    "    # Initialize the QueryBuilder\n",
    "    q = QueryBuilder()\n",
    "\n",
    "    # Apply filters dynamically\n",
    "    for column, conditions in filter_set.items():\n",
    "        for operator, value in conditions.items():\n",
    "            if operator == \"_gt_\": # Greater Than\n",
    "                q = q[(q[column] > value)]\n",
    "            elif operator == \"_gte_\": # Greater than or Equal To\n",
    "                q = q[(q[column] >= pd.to_datetime(value))]\n",
    "            elif operator == \"_lt_\": # Less Than\n",
    "                q = q[(q[column] < value)]\n",
    "            elif operator == \"_lte_\": # Less Than or Equal To\n",
    "                q = q[(q[column] <= pd.to_datetime(value))]\n",
    "            elif operator == \"_eq_\": # Equal To\n",
    "                q = q[(q[column] == value)]\n",
    "            elif operator == \"_isin_\": # Is in the list\n",
    "                q = q[(q[column].isin(value))]\n",
    "\n",
    "    filtered_df = rf.get_library(library_name).read(symbol_name, columns=columns, query_builder=q).data\n",
    "    return pl.DataFrame(filtered_df) if return_as_pl else filtered_df\n"
   ]
  },
  {
   "cell_type": "code",
   "execution_count": 46,
   "metadata": {},
   "outputs": [],
   "source": [
    "history_start_date_str  = \"2021-01-01\"\n",
    "history_end_date_str    = \"2023-12-16\"\n",
    "\n",
    "forecast_start_date_str = \"2024-01-01\"\n",
    "forecast_end_date_str   = \"2024-12-31\"\n",
    "\n"
   ]
  }
 ],
 "metadata": {
  "kernelspec": {
   "display_name": "Python 3",
   "language": "python",
   "name": "python3"
  },
  "language_info": {
   "codemirror_mode": {
    "name": "ipython",
    "version": 3
   },
   "file_extension": ".py",
   "mimetype": "text/x-python",
   "name": "python",
   "nbconvert_exporter": "python",
   "pygments_lexer": "ipython3",
   "version": "3.10.12"
  }
 },
 "nbformat": 4,
 "nbformat_minor": 2
}
