{
 "cells": [
  {
   "cell_type": "code",
   "execution_count": 97,
   "metadata": {},
   "outputs": [],
   "source": [
    "from sqlalchemy import Column, Integer, Numeric, String, Date, Index, Text, text, Float, create_engine  # The architects of our database schema, crafting the structure of our data haven.\n",
    "from sqlalchemy.orm import sessionmaker, declarative_base  # Craftsmen who build the bridge between our Pythonic realm and the database underworld.\n",
    "from sqlalchemy.exc import SQLAlchemyError\n",
    "from sqlalchemy.orm import declarative_base, sessionmaker\n",
    "\n",
    "from rapidframes import RapiDF, QueryBuilder\n",
    "\n",
    "import threading\n",
    "import warnings\n",
    "from typing import List, Dict\n",
    "import polars as pl\n",
    "import pandas as pd"
   ]
  },
  {
   "cell_type": "code",
   "execution_count": null,
   "metadata": {},
   "outputs": [],
   "source": [
    "!pip3 install -r requirements.txt"
   ]
  },
  {
   "cell_type": "code",
   "execution_count": 98,
   "metadata": {},
   "outputs": [],
   "source": [
    "import sys\n",
    "import os"
   ]
  },
  {
   "cell_type": "code",
   "execution_count": 99,
   "metadata": {},
   "outputs": [],
   "source": [
    "sys.path.append('/home/ubuntu/OTB/rapidframes/')\n",
    "sys.path.append('/home/ubuntu/OTB/BMAPS/routes')"
   ]
  },
  {
   "cell_type": "code",
   "execution_count": 100,
   "metadata": {},
   "outputs": [],
   "source": [
    "import datetime\n",
    "from collections import namedtuple\n",
    "from datetime import datetime, timedelta\n",
    "from time import ctime\n",
    "from typing import Dict, List\n",
    "import pandas as pd\n",
    "import numpy as np\n",
    "import polars as pl\n",
    "from rapidframes import QueryBuilder, RapiDF\n",
    "from warnings import simplefilter"
   ]
  },
  {
   "cell_type": "code",
   "execution_count": 101,
   "metadata": {},
   "outputs": [
    {
     "name": "stderr",
     "output_type": "stream",
     "text": [
      "[2024-03-10 08:58:58.534] [rapidframes] [warning] LMDB path at /home/ubuntu/AP/databases/bmaps_data/ has already been opened in this process which is not supported by LMDB. You should only open a single RapiDF instance over a given LMDB path. To continue safely, you should delete this RapiDF instance and any others over the LMDB path in this process and then try again. Current process ID=[911332]\n"
     ]
    }
   ],
   "source": [
    "STORAGE_URL = 'lmdb://databases/bmaps_data?map_size=50GB'\n",
    "rf = RapiDF(STORAGE_URL)"
   ]
  },
  {
   "cell_type": "code",
   "execution_count": 102,
   "metadata": {},
   "outputs": [
    {
     "data": {
      "text/plain": [
       "[]"
      ]
     },
     "execution_count": 102,
     "metadata": {},
     "output_type": "execute_result"
    }
   ],
   "source": [
    "rf.get_library(\"RA_DATA\").list_symbols()"
   ]
  },
  {
   "cell_type": "code",
   "execution_count": 103,
   "metadata": {},
   "outputs": [],
   "source": [
    "LIBRARY_NAME = \"RA_DATA\""
   ]
  },
  {
   "cell_type": "code",
   "execution_count": 104,
   "metadata": {},
   "outputs": [],
   "source": [
    "class PostgresDatabaseSecretsHolder:\n",
    "    # Configuring the warehouse to store the contraband.\n",
    "    USERNAME = \"postgres\"\n",
    "    PASSWORD = \"6eA1Wyp6l'sj\"\n",
    "    HOST     = \"35.154.160.43\"\n",
    "    PORT     = \"5432\"\n",
    "    DATABASE = \"bmaps\"\n",
    "\n",
    "# Establish a connection to the MariaDB and Postgre Server, like making an untraceable phone call to an old friend.\n",
    "# Connecting to the MariaDB and Postgre Instances is akin to reaching out to a contact in a foreign land.\n",
    "# The connection stringv, a secret formula for establishing a clandestine rendezvous.\n",
    "# mariadb_connection_string = f\"mysql+pymysql://{MariaDBDatabaseSecretsHolder.USERNAME}:{MariaDBDatabaseSecretsHolder.PASSWORD}\\\n",
    "# @{MariaDBDatabaseSecretsHolder.HOST}:{MariaDBDatabaseSecretsHolder.PORT}/{MariaDBDatabaseSecretsHolder.DATABASE}\"\n",
    "\n",
    "postgres_connection_string = f\"postgresql+psycopg2://{PostgresDatabaseSecretsHolder.USERNAME}:{PostgresDatabaseSecretsHolder.PASSWORD}\\\n",
    "@{PostgresDatabaseSecretsHolder.HOST}:{PostgresDatabaseSecretsHolder.PORT}/{PostgresDatabaseSecretsHolder.DATABASE}\"\n",
    "\n",
    "# Create the engines, the heart of our operation, silent yet powerful.\n",
    "# mariadb_engine = create_engine(mariadb_connection_string)\n",
    "postgres_engine = create_engine(postgres_connection_string)\n",
    "# The blueprint of our data structure, meticulous and precise.\n",
    "Base = declarative_base()\n",
    "Session = sessionmaker(bind=postgres_engine)\n",
    "session = Session()\n",
    "\n",
    "class SalesDataTrnx(Base):\n",
    "    __tablename__ = 'salesdata_trnx'\n",
    "    ID               = Column(Integer, primary_key=True, autoincrement=True)\n",
    "    INVENTLOCATIONID = Column(String(25))\n",
    "    ITEMID           = Column(String(50))\n",
    "    SALESQTY         = Column(Numeric(15, 3))\n",
    "    LINEDISC         = Column(Numeric(15, 3))\n",
    "    LINEAMOUNT       = Column(Numeric(15, 3))\n",
    "    SALESPRICE       = Column(Numeric(15, 3))\n",
    "    COSTPRICE        = Column(Numeric(15, 3))\n",
    "    INVOICEDATE      = Column(Date())\n",
    "    channel          = Column(String(50))\n",
    "    family           = Column(String(30))\n",
    "\n",
    "    __table_args__ = (\n",
    "        Index('salesdata_trnx_INVOICEDATE_IDX', 'INVOICEDATE'),\n",
    "        Index('salesdata_trnx_ITEMID_IDX', 'ITEMID', 'INVENTLOCATIONID', 'channel', 'family'),\n",
    "        Index('salesdata_trnx_LINEAMOUNT_IDX', 'LINEAMOUNT'),\n",
    "        Index('salesdata_trnx_INVENTLOCATIONID_1_IDX', 'INVENTLOCATIONID', 'ITEMID', 'channel'),\n",
    "        Index('salesdata_trnx_INVENTLOCATIONID_2_IDX', 'INVENTLOCATIONID', 'channel', 'INVOICEDATE', 'ITEMID', 'family'),\n",
    "        Index('salesdata_trnx_family_IDX', 'family', 'ITEMID', 'LINEAMOUNT'),\n",
    "        Index('salesdata_trnx_family_amt_IDX', 'family', 'LINEAMOUNT'),\n",
    "    )\n",
    "\n",
    "class RATransactionTable(Base):\n",
    "    __tablename__ = 'ra_transaction_table'\n",
    "    \n",
    "    id = Column(Integer, primary_key=True, autoincrement=True)\n",
    "    Channel = Column(Text)\n",
    "    country = Column(Text)\n",
    "    Region = Column(Text)\n",
    "    area = Column(Text)\n",
    "    city = Column(Text)\n",
    "    StoreId = Column(Integer)\n",
    "    Store = Column(Text)\n",
    "    season = Column(Text)\n",
    "    Department = Column(Text)\n",
    "    Family = Column(Text)\n",
    "    SubFamily = Column(Text)\n",
    "    Category = Column(Text)\n",
    "    DOM_COMM = Column(Text)\n",
    "    SubCategory = Column(Text)\n",
    "    ExtendedSubCategory = Column(Text)\n",
    "    Supplier = Column(Text)\n",
    "    SubCategorySupplier = Column(Text)\n",
    "    AssemblyCodeNickName = Column(Text)\n",
    "    Status = Column(Text)\n",
    "    ENDOFLife = Column(Text)\n",
    "    Description = Column(Text)\n",
    "    ItemLookupCode = Column(Text)\n",
    "    BudgetYear = Column(Float)\n",
    "    BDate = Column(Date)\n",
    "    BudgetAmount = Column(Float)\n",
    "    UnitsBuyBySku = Column(Numeric)\n",
    "    BudgetGrossMarginP = Column(Float)\n",
    "    BudgetCost = Column(Float)\n",
    "    BudgetQTY = Column(Numeric)\n",
    "    OpeningStock = Column(Numeric)\n",
    "    ClosingStock = Column(Numeric)\n",
    "    StockReceivedQty = Column(Integer)\n",
    "    TotalPurchaseQty = Column(Numeric)\n",
    "    StockOnHandQty = Column(Numeric)\n",
    "    CurrentStockCost = Column(Float)\n",
    "    budget_quarter = Column(Text)\n",
    "    budget_month = Column(Text)\n",
    "    budget_week = Column(Text)\n",
    "    budget_day = Column(Text)"
   ]
  },
  {
   "cell_type": "code",
   "execution_count": 105,
   "metadata": {},
   "outputs": [
    {
     "name": "stdout",
     "output_type": "stream",
     "text": [
      "[INFO] FETCH ITEM_MASTER TRANSACTIONS\n"
     ]
    }
   ],
   "source": [
    "def fetch_item_data():\n",
    "    lib = rf.get_library('RA_DATA', create_if_missing=True)\n",
    "    print(f\"[INFO] FETCH ITEM_MASTER TRANSACTIONS\")\n",
    "    \n",
    "    ps_session = sessionmaker(bind=postgres_engine)\n",
    "    ps_conn    = ps_session()\n",
    "    item_data    = ps_conn.execute(text('''SELECT \"ItemLookupCode\" AS \"ITEMID\",\n",
    "                                                 MAX(\"Description\") AS \"Description\",\n",
    "                                                 MAX(\"Department\") AS \"Department\",\n",
    "                                                 MAX(\"CategoryName\") AS \"Category\",\n",
    "                                                 MAX(\"Family\") AS \"Family\",\n",
    "                                                 MAX(\"subFamily\") AS \"SubFamily\",\n",
    "                                                 MAX(\"SubCategory\") AS \"SubCategory\",\n",
    "                                                 MAX(\"ExtendedSubCategory\") AS \"ExtendedSubCategory\",\n",
    "                                                 MAX(\"SubCategorySupplier\") AS \"SubCategorySupplier\",\n",
    "                                                 MAX(\"AssemblyCodeNickname\") AS \"AssemblyCodeNickName\",\n",
    "                                                 MAX(\"ENDOFLife\") AS \"ENDOFLife\",\n",
    "                                                 MAX(\"DOM_COMM\") AS \"DOM_COMM\",\n",
    "                                                 MAX(\"Status\") AS \"Status\",\n",
    "                                                 MAX(\"Supplier\") AS \"Supplier\"\n",
    "                                                 FROM \n",
    "                                                    itemmaster\n",
    "                                                 GROUP BY \n",
    "                                                    \"ItemLookupCode\"'''))\n",
    "    item_master      = pd.DataFrame(item_data, columns=item_data.keys())\n",
    "    item_master[\"ENDOFLife\"]  = item_master[\"ENDOFLife\"].fillna(\"\")\n",
    "    item_master['ITEMID'] = item_master['ITEMID'].astype(str)\n",
    "\n",
    "    lib.write(\"item_master\", item_master, prune_previous_versions=True) # , prune_previous_versions=True\n",
    "    return lib\n",
    "lib = fetch_item_data()"
   ]
  },
  {
   "cell_type": "code",
   "execution_count": 106,
   "metadata": {},
   "outputs": [
    {
     "data": {
      "text/plain": [
       "polars.dataframe.frame.DataFrame"
      ]
     },
     "execution_count": 106,
     "metadata": {},
     "output_type": "execute_result"
    }
   ],
   "source": [
    "q = QueryBuilder()\n",
    "item_master = pl.DataFrame(rf.get_library(LIBRARY_NAME).read('item_master', query_builder=q).data)\n",
    "type(item_master.head(2))"
   ]
  },
  {
   "cell_type": "code",
   "execution_count": 107,
   "metadata": {},
   "outputs": [
    {
     "name": "stdout",
     "output_type": "stream",
     "text": [
      "[INFO] FETCH OTB TABLE TRANSACTIONS\n"
     ]
    }
   ],
   "source": [
    "def fetch_otb_data():\n",
    "    lib = rf.get_library('RA_DATA', create_if_missing=True)\n",
    "\n",
    "    # Fetch RA Transactions\n",
    "    print(f\"[INFO] FETCH OTB TABLE TRANSACTIONS\")\n",
    "    \n",
    "    ps_session = sessionmaker(bind=postgres_engine)\n",
    "    ps_conn    = ps_session()\n",
    "    otb_data    = ps_conn.execute(text(\"SELECT * from otb_table ;\"))\n",
    "    otb_df      = pd.DataFrame(otb_data, columns=otb_data.keys())\n",
    "\n",
    "    otb_df[\"Budget_date\"]      = pd.to_datetime(otb_df[\"Budget_date\"])\n",
    "    otb_df[\"ENDOFLife\"]  = otb_df[\"ENDOFLife\"].fillna(\"\")\n",
    "    # cols_to_conv        = [\"ClosingStock\", \"TotalPurchaseQty\", \"StockOnHandQty\", \"UnitsBuyBySku\", \"BudgetQTY\", \"OpeningStock\"]\n",
    "    # otb_df[cols_to_conv] = otb_df[cols_to_conv].apply(pd.to_numeric)\n",
    "    otb_df = otb_df.fillna(0)\n",
    "    lib.write(\"otb_trnx\", otb_df, prune_previous_versions=True)\n",
    "    otb_df = None\n",
    "    return lib\n",
    "    \n",
    "lib = fetch_otb_data()"
   ]
  },
  {
   "cell_type": "code",
   "execution_count": 108,
   "metadata": {},
   "outputs": [
    {
     "data": {
      "text/html": [
       "<div><style>\n",
       ".dataframe > thead > tr,\n",
       ".dataframe > tbody > tr {\n",
       "  text-align: right;\n",
       "  white-space: pre-wrap;\n",
       "}\n",
       "</style>\n",
       "<small>shape: (1, 34)</small><table border=\"1\" class=\"dataframe\"><thead><tr><th>ITEMID</th><th>Description</th><th>Department</th><th>Category</th><th>Family</th><th>SubFamily</th><th>SubCategory</th><th>ExtendedSubCategory</th><th>SubCategorySupplier</th><th>AssemblyCodeNickName</th><th>ENDOFLife</th><th>DOM_COMM</th><th>Status</th><th>channel</th><th>INVENTLOCATIONID</th><th>Store</th><th>area</th><th>Region</th><th>budget_amount</th><th>budget_cost</th><th>budget_qty</th><th>budget_quarter</th><th>budget_week</th><th>budget_month</th><th>Budget_date</th><th>budget_year</th><th>budget_day</th><th>Supplier</th><th>otb_amount</th><th>otb_cost</th><th>otb_qty</th><th>stock_qty_actual</th><th>stock_qty_ly</th><th>stock_qty_lly</th></tr><tr><td>str</td><td>str</td><td>str</td><td>str</td><td>str</td><td>str</td><td>str</td><td>str</td><td>str</td><td>str</td><td>str</td><td>str</td><td>str</td><td>str</td><td>str</td><td>str</td><td>str</td><td>str</td><td>f64</td><td>f64</td><td>f64</td><td>str</td><td>str</td><td>str</td><td>datetime[ns]</td><td>str</td><td>str</td><td>str</td><td>f64</td><td>f64</td><td>f64</td><td>f64</td><td>f64</td><td>f64</td></tr></thead><tbody><tr><td>&quot;1BLNLPI7330SI7…</td><td>&quot;Lenovo 330S i7…</td><td>&quot;BMOBILE Lenovo…</td><td>&quot;Laptop&quot;</td><td>&quot;LAPTOP&quot;</td><td>&quot;BMOBILE&quot;</td><td>&quot;LAPTOP&quot;</td><td>&quot;LAPTOP&quot;</td><td>&quot;LAPTOP-LENOVO&quot;</td><td>&quot;1BLNLPI7330SI7…</td><td>&quot;&quot;</td><td>&quot;B.MOBILE&quot;</td><td>&quot;No&quot;</td><td>&quot;B2B&quot;</td><td>&quot;Re-8001&quot;</td><td>&quot;Corporate Sale…</td><td>&quot;Goods under bi…</td><td>&quot;CAIRO&quot;</td><td>0.0</td><td>0.0</td><td>0.0</td><td>&quot;1&quot;</td><td>&quot;09&quot;</td><td>&quot;March&quot;</td><td>2024-03-09 00:00:00</td><td>&quot;2024&quot;</td><td>&quot;6&quot;</td><td>&quot;LENOVO&quot;</td><td>0.0</td><td>0.0</td><td>0.0</td><td>0.0</td><td>0.0</td><td>0.0</td></tr></tbody></table></div>"
      ],
      "text/plain": [
       "shape: (1, 34)\n",
       "┌────────────┬────────────┬───────────┬──────────┬───┬─────────┬───────────┬───────────┬───────────┐\n",
       "│ ITEMID     ┆ Descriptio ┆ Departmen ┆ Category ┆ … ┆ otb_qty ┆ stock_qty ┆ stock_qty ┆ stock_qty │\n",
       "│ ---        ┆ n          ┆ t         ┆ ---      ┆   ┆ ---     ┆ _actual   ┆ _ly       ┆ _lly      │\n",
       "│ str        ┆ ---        ┆ ---       ┆ str      ┆   ┆ f64     ┆ ---       ┆ ---       ┆ ---       │\n",
       "│            ┆ str        ┆ str       ┆          ┆   ┆         ┆ f64       ┆ f64       ┆ f64       │\n",
       "╞════════════╪════════════╪═══════════╪══════════╪═══╪═════════╪═══════════╪═══════════╪═══════════╡\n",
       "│ 1BLNLPI733 ┆ Lenovo     ┆ BMOBILE   ┆ Laptop   ┆ … ┆ 0.0     ┆ 0.0       ┆ 0.0       ┆ 0.0       │\n",
       "│ 0SI700L000 ┆ 330S i7-85 ┆ Lenovo    ┆          ┆   ┆         ┆           ┆           ┆           │\n",
       "│            ┆ 50U-8G-1T- ┆           ┆          ┆   ┆         ┆           ┆           ┆           │\n",
       "│            ┆ 2-D        ┆           ┆          ┆   ┆         ┆           ┆           ┆           │\n",
       "└────────────┴────────────┴───────────┴──────────┴───┴─────────┴───────────┴───────────┴───────────┘"
      ]
     },
     "execution_count": 108,
     "metadata": {},
     "output_type": "execute_result"
    }
   ],
   "source": [
    "q = QueryBuilder()\n",
    "otb_trnx = pl.DataFrame(rf.get_library(LIBRARY_NAME).read('otb_trnx', query_builder=q).data)\n",
    "otb_trnx.head(2)"
   ]
  },
  {
   "cell_type": "code",
   "execution_count": 109,
   "metadata": {},
   "outputs": [
    {
     "name": "stdout",
     "output_type": "stream",
     "text": [
      "[INFO] FETCH CURRENT SALES TRANSACTIONS\n"
     ]
    }
   ],
   "source": [
    "# Fetch CST Transactions\n",
    "def fetch_cst_data():\n",
    "    lib = rf.get_library('RA_DATA', create_if_missing=True)\n",
    "\n",
    "    print(f\"[INFO] FETCH CURRENT SALES TRANSACTIONS\")\n",
    "    \n",
    "    ps_session            = sessionmaker(bind=postgres_engine)\n",
    "    ps_conn               = ps_session()\n",
    "    cst_data              = ps_conn.execute(text(\"SELECT * from current_sales_trnx;\"))\n",
    "    cst_df                = pd.DataFrame(cst_data, columns=cst_data.keys())\n",
    "    cst_df[\"INVOICEDATE\"] = pd.to_datetime(cst_df[\"INVOICEDATE\"])\n",
    "    cols_to_conv          = [\"LINEAMOUNT\", \"SALESQTY\", \"COSTPRICE\", \"gross_sales\", \"historical_year\"]\n",
    "    cst_df[cols_to_conv]  = cst_df[cols_to_conv].apply(pd.to_numeric)\n",
    "    str_cols = ['channel', 'history_quarter']\n",
    "    cst_df= cst_df[str_cols].fillna('unknown')\n",
    "    cst_df = cst_df.fillna(0)\n",
    "    lib.write(\"cst_trnx\", cst_df, prune_previous_versions=True)\n",
    "    cst_df = None\n",
    "    return lib\n",
    "\n",
    "lib = fetch_cst_data()"
   ]
  },
  {
   "cell_type": "code",
   "execution_count": 110,
   "metadata": {},
   "outputs": [],
   "source": [
    "q = QueryBuilder()\n",
    "cst_trnx  = pl.DataFrame(rf.get_library(LIBRARY_NAME).read('cst_trnx', query_builder=q).data)"
   ]
  },
  {
   "cell_type": "code",
   "execution_count": 111,
   "metadata": {},
   "outputs": [
    {
     "data": {
      "text/html": [
       "<div><style>\n",
       ".dataframe > thead > tr,\n",
       ".dataframe > tbody > tr {\n",
       "  text-align: right;\n",
       "  white-space: pre-wrap;\n",
       "}\n",
       "</style>\n",
       "<small>shape: (5, 2)</small><table border=\"1\" class=\"dataframe\"><thead><tr><th>history_quarter</th><th>count</th></tr><tr><td>str</td><td>u32</td></tr></thead><tbody><tr><td>&quot;unknown&quot;</td><td>2</td></tr><tr><td>&quot;4&quot;</td><td>1809122</td></tr><tr><td>&quot;2&quot;</td><td>1732044</td></tr><tr><td>&quot;3&quot;</td><td>1791936</td></tr><tr><td>&quot;1&quot;</td><td>2135290</td></tr></tbody></table></div>"
      ],
      "text/plain": [
       "shape: (5, 2)\n",
       "┌─────────────────┬─────────┐\n",
       "│ history_quarter ┆ count   │\n",
       "│ ---             ┆ ---     │\n",
       "│ str             ┆ u32     │\n",
       "╞═════════════════╪═════════╡\n",
       "│ unknown         ┆ 2       │\n",
       "│ 4               ┆ 1809122 │\n",
       "│ 2               ┆ 1732044 │\n",
       "│ 3               ┆ 1791936 │\n",
       "│ 1               ┆ 2135290 │\n",
       "└─────────────────┴─────────┘"
      ]
     },
     "execution_count": 111,
     "metadata": {},
     "output_type": "execute_result"
    }
   ],
   "source": [
    "cst_trnx['history_quarter'].value_counts()"
   ]
  },
  {
   "cell_type": "code",
   "execution_count": 112,
   "metadata": {},
   "outputs": [
    {
     "name": "stdout",
     "output_type": "stream",
     "text": [
      "[INFO] FETCH STOCK TRANSACTIONS\n"
     ]
    }
   ],
   "source": [
    "def fetch_stock_data():\n",
    "  lib = rf.get_library('RA_DATA', create_if_missing=True)\n",
    "\n",
    "  # Get the opening stock\n",
    "  print(f\"[INFO] FETCH STOCK TRANSACTIONS\")\n",
    "\n",
    "  # Get the opening stock\n",
    "  ps_session = sessionmaker(bind=postgres_engine)\n",
    "  ps_conn    = ps_session()\n",
    "\n",
    "  stock_data    = ps_conn.execute(text('''\tSELECT \"ItemLookupCode\" AS \"ITEMID\" ,\n",
    "                                          \"StoreID\" AS \"INVENTLOCATIONID\",\n",
    "                                          SUM(\"Quantity\") AS \"stock_on_hand_qty\",\n",
    "                                          SUM(\"Quantity\") AS \"opening_stock\",\n",
    "                                          SUM(\"Quantity\") AS \"closing_stock\",\n",
    "                                          AVG(\"Price\") AS \"current_stock_cost_at_retail\",\n",
    "                                          0 AS \"stock_received_qty\",\n",
    "                                          SUM(\"Cost\") AS \"opening_stock_at_cost\",\n",
    "                                          0 AS \"adjustment_at_cost\",\n",
    "                                          0 AS \"adjustment_at_retail\"\n",
    "                                          FROM stock \n",
    "                                          GROUP BY \"ItemLookupCode\",\"StoreID\";\n",
    "                                    '''\n",
    "                                  ))\n",
    "\n",
    "  stock_df      = pd.DataFrame(stock_data, columns=stock_data.keys())\n",
    "  cols_to_conv        = [\"stock_on_hand_qty\", \"opening_stock\", \"closing_stock\", \"current_stock_cost_at_retail\"]\n",
    "  stock_df[cols_to_conv] = stock_df[cols_to_conv].apply(pd.to_numeric)\n",
    "  stock_df = stock_df.fillna(0)\n",
    "  lib.write(\"stock_trnx\", stock_df,prune_previous_versions=True)\n",
    "  stock_df = None\n",
    "  return lib\n",
    "\n",
    "lib = fetch_stock_data()"
   ]
  },
  {
   "cell_type": "code",
   "execution_count": 113,
   "metadata": {},
   "outputs": [
    {
     "data": {
      "text/html": [
       "<div><style>\n",
       ".dataframe > thead > tr,\n",
       ".dataframe > tbody > tr {\n",
       "  text-align: right;\n",
       "  white-space: pre-wrap;\n",
       "}\n",
       "</style>\n",
       "<small>shape: (5, 10)</small><table border=\"1\" class=\"dataframe\"><thead><tr><th>ITEMID</th><th>INVENTLOCATIONID</th><th>stock_on_hand_qty</th><th>opening_stock</th><th>closing_stock</th><th>current_stock_cost_at_retail</th><th>stock_received_qty</th><th>opening_stock_at_cost</th><th>adjustment_at_cost</th><th>adjustment_at_retail</th></tr><tr><td>str</td><td>str</td><td>f64</td><td>f64</td><td>f64</td><td>f64</td><td>i64</td><td>f64</td><td>i64</td><td>i64</td></tr></thead><tbody><tr><td>&quot;1AIFIX0SW0SWTO…</td><td>&quot;Re-1037&quot;</td><td>30000.0</td><td>30000.0</td><td>30000.0</td><td>0.0</td><td>0</td><td>0.0</td><td>0</td><td>0</td></tr><tr><td>&quot;1STCIRST404010…</td><td>&quot;Re-1006&quot;</td><td>2.0</td><td>2.0</td><td>2.0</td><td>0.0</td><td>0</td><td>0.0</td><td>0</td><td>0</td></tr><tr><td>&quot;1BSAASMCVIVOY3…</td><td>&quot;Re-1026&quot;</td><td>3.0</td><td>3.0</td><td>3.0</td><td>0.0</td><td>0</td><td>0.0</td><td>0</td><td>0</td></tr><tr><td>&quot;ACCOUNTOPENFRE…</td><td>&quot;Re-1041&quot;</td><td>30000.0</td><td>30000.0</td><td>30000.0</td><td>0.0</td><td>0</td><td>0.0</td><td>0</td><td>0</td></tr><tr><td>&quot;1SCAARSTHLB10B…</td><td>&quot;Re-1030&quot;</td><td>1.0</td><td>1.0</td><td>1.0</td><td>0.0</td><td>0</td><td>0.0</td><td>0</td><td>0</td></tr></tbody></table></div>"
      ],
      "text/plain": [
       "shape: (5, 10)\n",
       "┌───────────┬───────────┬───────────┬───────────┬───┬───────────┬───────────┬───────────┬──────────┐\n",
       "│ ITEMID    ┆ INVENTLOC ┆ stock_on_ ┆ opening_s ┆ … ┆ stock_rec ┆ opening_s ┆ adjustmen ┆ adjustme │\n",
       "│ ---       ┆ ATIONID   ┆ hand_qty  ┆ tock      ┆   ┆ eived_qty ┆ tock_at_c ┆ t_at_cost ┆ nt_at_re │\n",
       "│ str       ┆ ---       ┆ ---       ┆ ---       ┆   ┆ ---       ┆ ost       ┆ ---       ┆ tail     │\n",
       "│           ┆ str       ┆ f64       ┆ f64       ┆   ┆ i64       ┆ ---       ┆ i64       ┆ ---      │\n",
       "│           ┆           ┆           ┆           ┆   ┆           ┆ f64       ┆           ┆ i64      │\n",
       "╞═══════════╪═══════════╪═══════════╪═══════════╪═══╪═══════════╪═══════════╪═══════════╪══════════╡\n",
       "│ 1AIFIX0SW ┆ Re-1037   ┆ 30000.0   ┆ 30000.0   ┆ … ┆ 0         ┆ 0.0       ┆ 0         ┆ 0        │\n",
       "│ 0SWTOOLO1 ┆           ┆           ┆           ┆   ┆           ┆           ┆           ┆          │\n",
       "│ 51        ┆           ┆           ┆           ┆   ┆           ┆           ┆           ┆          │\n",
       "│ 1STCIRST4 ┆ Re-1006   ┆ 2.0       ┆ 2.0       ┆ … ┆ 0         ┆ 0.0       ┆ 0         ┆ 0        │\n",
       "│ 0401000L0 ┆           ┆           ┆           ┆   ┆           ┆           ┆           ┆          │\n",
       "│ 00        ┆           ┆           ┆           ┆   ┆           ┆           ┆           ┆          │\n",
       "│ 1BSAASMCV ┆ Re-1026   ┆ 3.0       ┆ 3.0       ┆ … ┆ 0         ┆ 0.0       ┆ 0         ┆ 0        │\n",
       "│ IVOY360L0 ┆           ┆           ┆           ┆   ┆           ┆           ┆           ┆          │\n",
       "│ 00        ┆           ┆           ┆           ┆   ┆           ┆           ┆           ┆          │\n",
       "│ ACCOUNTOP ┆ Re-1041   ┆ 30000.0   ┆ 30000.0   ┆ … ┆ 0         ┆ 0.0       ┆ 0         ┆ 0        │\n",
       "│ ENFREEJOB ┆           ┆           ┆           ┆   ┆           ┆           ┆           ┆          │\n",
       "│ S1        ┆           ┆           ┆           ┆   ┆           ┆           ┆           ┆          │\n",
       "│ 1SCAARSTH ┆ Re-1030   ┆ 1.0       ┆ 1.0       ┆ … ┆ 0         ┆ 0.0       ┆ 0         ┆ 0        │\n",
       "│ LB10B00L0 ┆           ┆           ┆           ┆   ┆           ┆           ┆           ┆          │\n",
       "│ 20        ┆           ┆           ┆           ┆   ┆           ┆           ┆           ┆          │\n",
       "└───────────┴───────────┴───────────┴───────────┴───┴───────────┴───────────┴───────────┴──────────┘"
      ]
     },
     "execution_count": 113,
     "metadata": {},
     "output_type": "execute_result"
    }
   ],
   "source": [
    "q = QueryBuilder()\n",
    "stock_trnx = pl.DataFrame(rf.get_library(LIBRARY_NAME).read('stock_trnx', query_builder=q).data)\n",
    "stock_trnx.head()"
   ]
  },
  {
   "cell_type": "code",
   "execution_count": 114,
   "metadata": {},
   "outputs": [
    {
     "name": "stdout",
     "output_type": "stream",
     "text": [
      "[INFO] FETCH KPI TRANSACTIONS\n"
     ]
    }
   ],
   "source": [
    "def fetch_kpi_data():\n",
    "    lib = rf.get_library('RA_DATA', create_if_missing=True)\n",
    "\n",
    "    # Get the opening stock\n",
    "    print(f\"[INFO] FETCH KPI TRANSACTIONS\")\n",
    "\n",
    "    ps_session = sessionmaker(bind=postgres_engine)\n",
    "    ps_conn    = ps_session()\n",
    "\n",
    "    kpi_data    = ps_conn.execute(text(\"SELECT * from kpi_table;\"))\n",
    "    kpi_df      = pd.DataFrame(kpi_data, columns=kpi_data.keys())\n",
    "    kpi_df = kpi_df.fillna(0)\n",
    "    # ra_df[\"Budget_date\"]      = pd.to_datetime(ra_df[\"Budget_date\"])\n",
    "    # ra_df[\"ENDOFLife\"]  = ra_df[\"ENDOFLife\"].fillna(\"\")\n",
    "    # cols_to_conv        = [\"budget_qty\"]\n",
    "\n",
    "    # cols_to_conv        = [\"ClosingStock\", \"TotalPurchaseQty\", \"StockOnHandQty\", \"UnitsBuyBySku\", \"BudgetQTY\", \"OpeningStock\"]\n",
    "    # ra_df[cols_to_conv] = ra_df[cols_to_conv].apply(pd.to_numeric)\n",
    "\n",
    "    lib.write(\"kpi_trnx\", kpi_df,prune_previous_versions=True)\n",
    "    ra_df = None\n",
    "    return lib\n",
    "lib = fetch_kpi_data()"
   ]
  },
  {
   "cell_type": "code",
   "execution_count": 115,
   "metadata": {},
   "outputs": [
    {
     "data": {
      "text/html": [
       "<div><style>\n",
       ".dataframe > thead > tr,\n",
       ".dataframe > tbody > tr {\n",
       "  text-align: right;\n",
       "  white-space: pre-wrap;\n",
       "}\n",
       "</style>\n",
       "<small>shape: (2, 15)</small><table border=\"1\" class=\"dataframe\"><thead><tr><th>ITEMID</th><th>article_score_sale</th><th>article_score_abc</th><th>article_score_ae</th><th>article_score_speed</th><th>article_score_terminal</th><th>article_score_margin</th><th>article_score_sell</th><th>article_score_markdown</th><th>article_score_core</th><th>article_score_quartile</th><th>article_score_sortimeter</th><th>btech_vs_sortimeter</th><th>store_sku_count</th><th>price</th></tr><tr><td>str</td><td>f64</td><td>f64</td><td>f64</td><td>f64</td><td>f64</td><td>f64</td><td>f64</td><td>f64</td><td>f64</td><td>f64</td><td>f64</td><td>f64</td><td>f64</td><td>f64</td></tr></thead><tbody><tr><td>&quot;1BNOOMSMNKC102…</td><td>0.000562</td><td>0.000749</td><td>0.0</td><td>0.0</td><td>0.0</td><td>0.0</td><td>0.0</td><td>0.0</td><td>0.0</td><td>0.0</td><td>0.0</td><td>0.0</td><td>0.0</td><td>0.0</td></tr><tr><td>&quot;1MWPWDFSWPWD01…</td><td>0.0</td><td>0.0</td><td>0.0</td><td>0.0</td><td>0.0</td><td>0.0</td><td>0.0</td><td>0.0</td><td>0.0</td><td>0.0</td><td>0.0</td><td>0.0</td><td>0.0</td><td>0.0</td></tr></tbody></table></div>"
      ],
      "text/plain": [
       "shape: (2, 15)\n",
       "┌────────────┬────────────┬────────────┬───────────┬───┬───────────┬───────────┬───────────┬───────┐\n",
       "│ ITEMID     ┆ article_sc ┆ article_sc ┆ article_s ┆ … ┆ article_s ┆ btech_vs_ ┆ store_sku ┆ price │\n",
       "│ ---        ┆ ore_sale   ┆ ore_abc    ┆ core_ae   ┆   ┆ core_sort ┆ sortimete ┆ _count    ┆ ---   │\n",
       "│ str        ┆ ---        ┆ ---        ┆ ---       ┆   ┆ imeter    ┆ r         ┆ ---       ┆ f64   │\n",
       "│            ┆ f64        ┆ f64        ┆ f64       ┆   ┆ ---       ┆ ---       ┆ f64       ┆       │\n",
       "│            ┆            ┆            ┆           ┆   ┆ f64       ┆ f64       ┆           ┆       │\n",
       "╞════════════╪════════════╪════════════╪═══════════╪═══╪═══════════╪═══════════╪═══════════╪═══════╡\n",
       "│ 1BNOOMSMNK ┆ 0.000562   ┆ 0.000749   ┆ 0.0       ┆ … ┆ 0.0       ┆ 0.0       ┆ 0.0       ┆ 0.0   │\n",
       "│ C10232L020 ┆            ┆            ┆           ┆   ┆           ┆           ┆           ┆       │\n",
       "│ 1MWPWDFSWP ┆ 0.0        ┆ 0.0        ┆ 0.0       ┆ … ┆ 0.0       ┆ 0.0       ┆ 0.0       ┆ 0.0   │\n",
       "│ WD01CSF008 ┆            ┆            ┆           ┆   ┆           ┆           ┆           ┆       │\n",
       "└────────────┴────────────┴────────────┴───────────┴───┴───────────┴───────────┴───────────┴───────┘"
      ]
     },
     "execution_count": 115,
     "metadata": {},
     "output_type": "execute_result"
    }
   ],
   "source": [
    "q = QueryBuilder()\n",
    "kpi_trnx  = pl.DataFrame(rf.get_library(LIBRARY_NAME).read(\"kpi_trnx\", query_builder=q).data)\n",
    "kpi_trnx.head(2)"
   ]
  },
  {
   "cell_type": "code",
   "execution_count": 116,
   "metadata": {},
   "outputs": [
    {
     "data": {
      "text/plain": [
       "['RA_DATA']"
      ]
     },
     "execution_count": 116,
     "metadata": {},
     "output_type": "execute_result"
    }
   ],
   "source": [
    "rf.delete_library('SP_DATA')\n",
    "rf.list_libraries()"
   ]
  },
  {
   "cell_type": "code",
   "execution_count": 117,
   "metadata": {},
   "outputs": [
    {
     "name": "stdout",
     "output_type": "stream",
     "text": [
      "(stock_trnx_v0, (date=2024-03-10 09:00:49.199295371+00:00))\n",
      "(otb_trnx_v0, (date=2024-03-10 08:59:05.109940682+00:00))\n",
      "(kpi_trnx_v0, (date=2024-03-10 09:00:51.051610209+00:00))\n",
      "(item_master_v0, (date=2024-03-10 08:59:03.567305919+00:00))\n",
      "(cst_trnx_v0, (date=2024-03-10 09:00:35.987665714+00:00))\n",
      "(stock_trnx_v0, (date=2024-03-10 09:00:49.199295371+00:00)) (otb_trnx_v0, (date=2024-03-10 08:59:05.109940682+00:00)) (kpi_trnx_v0, (date=2024-03-10 09:00:51.051610209+00:00)) (item_master_v0, (date=2024-03-10 08:59:03.567305919+00:00)) (cst_trnx_v0, (date=2024-03-10 09:00:35.987665714+00:00)) the symbol version\n"
     ]
    }
   ],
   "source": [
    "print(*map(lambda item:(print(item), item)[1], lib.list_versions().items()), 'the symbol version')"
   ]
  },
  {
   "cell_type": "code",
   "execution_count": 118,
   "metadata": {},
   "outputs": [
    {
     "data": {
      "text/plain": [
       "VersionedItem(symbol='ra_item_joined', library='RA_DATA', data=n/a, version=0, metadata=None, host='LMDB(path=/home/ubuntu/AP/databases/bmaps_data)')"
      ]
     },
     "execution_count": 118,
     "metadata": {},
     "output_type": "execute_result"
    }
   ],
   "source": [
    "rf.get_library(LIBRARY_NAME).write(\n",
    "            'ra_item_joined',\n",
    "            otb_trnx.join(item_master,\n",
    "            on=['ITEMID'],\n",
    "            how='left' \n",
    "            ).to_pandas(), prune_previous_versions=True\n",
    "        )"
   ]
  },
  {
   "cell_type": "code",
   "execution_count": 128,
   "metadata": {},
   "outputs": [],
   "source": [
    "q=QueryBuilder()\n",
    "ra_item_joined = pl.DataFrame(rf.get_library(LIBRARY_NAME).read('ra_item_joined', query_builder=q).data)\n",
    "ra_item_joined=ra_item_joined.fill_null(0)"
   ]
  },
  {
   "cell_type": "code",
   "execution_count": 129,
   "metadata": {},
   "outputs": [],
   "source": [
    "stock_trnx=stock_trnx.fill_null(0).fill_nan(0)"
   ]
  },
  {
   "cell_type": "code",
   "execution_count": 130,
   "metadata": {},
   "outputs": [
    {
     "name": "stderr",
     "output_type": "stream",
     "text": [
      "[2024-03-10 09:02:23.410] [rapidframes] [info] Column INVENTLOCATIONID_right does not have non null elements.\n"
     ]
    },
    {
     "data": {
      "text/plain": [
       "VersionedItem(symbol='ra_stock_joined', library='RA_DATA', data=n/a, version=3, metadata=None, host='LMDB(path=/home/ubuntu/AP/databases/bmaps_data)')"
      ]
     },
     "execution_count": 130,
     "metadata": {},
     "output_type": "execute_result"
    }
   ],
   "source": [
    "rf.get_library(LIBRARY_NAME).write(\n",
    "            'ra_stock_joined',\n",
    "            ra_item_joined.join(stock_trnx,\n",
    "            on=['ITEMID'],\n",
    "            how='left', \n",
    "            ).to_pandas(), prune_previous_versions=True\n",
    "        )"
   ]
  },
  {
   "cell_type": "code",
   "execution_count": 131,
   "metadata": {},
   "outputs": [
    {
     "name": "stderr",
     "output_type": "stream",
     "text": [
      "pybind11::handle::inc_ref() is being called while the GIL is either not held or invalid. Please see https://pybind11.readthedocs.io/en/stable/advanced/misc.html#common-sources-of-global-interpreter-lock-errors for debugging advice.\n",
      "If you are convinced there is no bug in your code, you can #define PYBIND11_NO_ASSERT_GIL_HELD_INCREF_DECREF to disable this check. In that case you have to ensure this #define is consistently used for all translation units linked into a given pybind11 extension, otherwise there will be ODR violations. The failing pybind11::handle::inc_ref() call was triggered on a NoneType object.\n"
     ]
    },
    {
     "ename": "InternalException",
     "evalue": "std::runtime_error(pybind11::handle::inc_ref() PyGILState_Check() failure.)",
     "output_type": "error",
     "traceback": [
      "\u001b[0;31m---------------------------------------------------------------------------\u001b[0m",
      "\u001b[0;31mInternalException\u001b[0m                         Traceback (most recent call last)",
      "Cell \u001b[0;32mIn[131], line 4\u001b[0m\n\u001b[1;32m      1\u001b[0m q\u001b[38;5;241m=\u001b[39mQueryBuilder()\n\u001b[1;32m      2\u001b[0m \u001b[38;5;66;03m# ra_stock_joined = pl.DataFrame(rf.get_library(LIBRARY_NAME).read('ra_stock_joined', query_builder=q).data)\u001b[39;00m\n\u001b[0;32m----> 4\u001b[0m ra_stock_joined \u001b[38;5;241m=\u001b[39m \u001b[43mrf\u001b[49m\u001b[38;5;241;43m.\u001b[39;49m\u001b[43mget_library\u001b[49m\u001b[43m(\u001b[49m\u001b[43mLIBRARY_NAME\u001b[49m\u001b[43m)\u001b[49m\u001b[38;5;241;43m.\u001b[39;49m\u001b[43mread\u001b[49m\u001b[43m(\u001b[49m\u001b[38;5;124;43m'\u001b[39;49m\u001b[38;5;124;43mra_stock_joined\u001b[39;49m\u001b[38;5;124;43m'\u001b[39;49m\u001b[43m,\u001b[49m\u001b[43m \u001b[49m\u001b[43mquery_builder\u001b[49m\u001b[38;5;241;43m=\u001b[39;49m\u001b[43mq\u001b[49m\u001b[43m)\u001b[49m\u001b[38;5;241m.\u001b[39mdata\n\u001b[1;32m      5\u001b[0m \u001b[38;5;66;03m# ra_stock_joined.dtypes\u001b[39;00m\n",
      "File \u001b[0;32m~/AP/rapidframes/version_store/library.py:983\u001b[0m, in \u001b[0;36mLibrary.read\u001b[0;34m(self, symbol, as_of, date_range, columns, query_builder)\u001b[0m\n\u001b[1;32m    918\u001b[0m \u001b[38;5;28;01mdef\u001b[39;00m \u001b[38;5;21mread\u001b[39m(\n\u001b[1;32m    919\u001b[0m     \u001b[38;5;28mself\u001b[39m,\n\u001b[1;32m    920\u001b[0m     symbol: \u001b[38;5;28mstr\u001b[39m,\n\u001b[0;32m   (...)\u001b[0m\n\u001b[1;32m    924\u001b[0m     query_builder: Optional[QueryBuilder] \u001b[38;5;241m=\u001b[39m \u001b[38;5;28;01mNone\u001b[39;00m,\n\u001b[1;32m    925\u001b[0m ) \u001b[38;5;241m-\u001b[39m\u001b[38;5;241m>\u001b[39m VersionedItem:\n\u001b[1;32m    926\u001b[0m \u001b[38;5;250m    \u001b[39m\u001b[38;5;124;03m\"\"\"\u001b[39;00m\n\u001b[1;32m    927\u001b[0m \u001b[38;5;124;03m    Read data for the named symbol.  Returns a VersionedItem object with a data and metadata element (as passed into\u001b[39;00m\n\u001b[1;32m    928\u001b[0m \u001b[38;5;124;03m    write).\u001b[39;00m\n\u001b[0;32m   (...)\u001b[0m\n\u001b[1;32m    981\u001b[0m \u001b[38;5;124;03m    2       7\u001b[39;00m\n\u001b[1;32m    982\u001b[0m \u001b[38;5;124;03m    \"\"\"\u001b[39;00m\n\u001b[0;32m--> 983\u001b[0m     \u001b[38;5;28;01mreturn\u001b[39;00m \u001b[38;5;28;43mself\u001b[39;49m\u001b[38;5;241;43m.\u001b[39;49m\u001b[43m_nvs\u001b[49m\u001b[38;5;241;43m.\u001b[39;49m\u001b[43mread\u001b[49m\u001b[43m(\u001b[49m\n\u001b[1;32m    984\u001b[0m \u001b[43m        \u001b[49m\u001b[43msymbol\u001b[49m\u001b[38;5;241;43m=\u001b[39;49m\u001b[43msymbol\u001b[49m\u001b[43m,\u001b[49m\u001b[43m \u001b[49m\u001b[43mas_of\u001b[49m\u001b[38;5;241;43m=\u001b[39;49m\u001b[43mas_of\u001b[49m\u001b[43m,\u001b[49m\u001b[43m \u001b[49m\u001b[43mdate_range\u001b[49m\u001b[38;5;241;43m=\u001b[39;49m\u001b[43mdate_range\u001b[49m\u001b[43m,\u001b[49m\u001b[43m \u001b[49m\u001b[43mcolumns\u001b[49m\u001b[38;5;241;43m=\u001b[39;49m\u001b[43mcolumns\u001b[49m\u001b[43m,\u001b[49m\u001b[43m \u001b[49m\u001b[43mquery_builder\u001b[49m\u001b[38;5;241;43m=\u001b[39;49m\u001b[43mquery_builder\u001b[49m\n\u001b[1;32m    985\u001b[0m \u001b[43m    \u001b[49m\u001b[43m)\u001b[49m\n",
      "File \u001b[0;32m~/AP/rapidframes/version_store/_store.py:1652\u001b[0m, in \u001b[0;36mNativeVersionStore.read\u001b[0;34m(self, symbol, as_of, date_range, row_range, columns, query_builder, **kwargs)\u001b[0m\n\u001b[1;32m   1648\u001b[0m     query_builder \u001b[38;5;241m=\u001b[39m q\u001b[38;5;241m.\u001b[39mdate_range(date_range)\u001b[38;5;241m.\u001b[39mthen(query_builder)\n\u001b[1;32m   1649\u001b[0m version_query, read_options, read_query \u001b[38;5;241m=\u001b[39m \u001b[38;5;28mself\u001b[39m\u001b[38;5;241m.\u001b[39m_get_queries(\n\u001b[1;32m   1650\u001b[0m     as_of, date_range, row_range, columns, query_builder, \u001b[38;5;241m*\u001b[39m\u001b[38;5;241m*\u001b[39mkwargs\n\u001b[1;32m   1651\u001b[0m )\n\u001b[0;32m-> 1652\u001b[0m read_result \u001b[38;5;241m=\u001b[39m \u001b[38;5;28;43mself\u001b[39;49m\u001b[38;5;241;43m.\u001b[39;49m\u001b[43m_read_dataframe\u001b[49m\u001b[43m(\u001b[49m\u001b[43msymbol\u001b[49m\u001b[43m,\u001b[49m\u001b[43m \u001b[49m\u001b[43mversion_query\u001b[49m\u001b[43m,\u001b[49m\u001b[43m \u001b[49m\u001b[43mread_query\u001b[49m\u001b[43m,\u001b[49m\u001b[43m \u001b[49m\u001b[43mread_options\u001b[49m\u001b[43m)\u001b[49m\n\u001b[1;32m   1653\u001b[0m \u001b[38;5;28;01mreturn\u001b[39;00m \u001b[38;5;28mself\u001b[39m\u001b[38;5;241m.\u001b[39m_post_process_dataframe(read_result, read_query, query_builder)\n",
      "File \u001b[0;32m~/AP/rapidframes/version_store/_store.py:1719\u001b[0m, in \u001b[0;36mNativeVersionStore._read_dataframe\u001b[0;34m(self, symbol, version_query, read_query, read_options)\u001b[0m\n\u001b[1;32m   1718\u001b[0m \u001b[38;5;28;01mdef\u001b[39;00m \u001b[38;5;21m_read_dataframe\u001b[39m(\u001b[38;5;28mself\u001b[39m, symbol, version_query, read_query, read_options):\n\u001b[0;32m-> 1719\u001b[0m     \u001b[38;5;28;01mreturn\u001b[39;00m ReadResult(\u001b[38;5;241m*\u001b[39m\u001b[38;5;28;43mself\u001b[39;49m\u001b[38;5;241;43m.\u001b[39;49m\u001b[43mversion_store\u001b[49m\u001b[38;5;241;43m.\u001b[39;49m\u001b[43mread_dataframe_version\u001b[49m\u001b[43m(\u001b[49m\u001b[43msymbol\u001b[49m\u001b[43m,\u001b[49m\u001b[43m \u001b[49m\u001b[43mversion_query\u001b[49m\u001b[43m,\u001b[49m\u001b[43m \u001b[49m\u001b[43mread_query\u001b[49m\u001b[43m,\u001b[49m\u001b[43m \u001b[49m\u001b[43mread_options\u001b[49m\u001b[43m)\u001b[49m)\n",
      "\u001b[0;31mInternalException\u001b[0m: std::runtime_error(pybind11::handle::inc_ref() PyGILState_Check() failure.)"
     ]
    }
   ],
   "source": [
    "q=QueryBuilder()\n",
    "# ra_stock_joined = pl.DataFrame(rf.get_library(LIBRARY_NAME).read('ra_stock_joined', query_builder=q).data)\n",
    "\n",
    "ra_stock_joined = rf.get_library(LIBRARY_NAME).read('ra_stock_joined', query_builder=q).data\n",
    "# ra_stock_joined.dtypes"
   ]
  },
  {
   "cell_type": "code",
   "execution_count": 53,
   "metadata": {},
   "outputs": [
    {
     "data": {
      "text/plain": [
       "VersionedItem(symbol='ra_kpi_joined', library='RA_DATA', data=n/a, version=0, metadata=None, host='LMDB(path=/home/ubuntu/AP/databases/bmaps_data)')"
      ]
     },
     "execution_count": 53,
     "metadata": {},
     "output_type": "execute_result"
    }
   ],
   "source": [
    "rf.get_library(LIBRARY_NAME).write(\n",
    "            'ra_kpi_joined',\n",
    "            ra_stock_joined.join(kpi_trnx,\n",
    "            on=['ITEMID'],\n",
    "            how='left' \n",
    "            ).to_pandas(), prune_previous_versions=True\n",
    "        )"
   ]
  },
  {
   "cell_type": "code",
   "execution_count": 54,
   "metadata": {},
   "outputs": [],
   "source": [
    "ra_kpi_joined  = pl.DataFrame(rf.get_library(LIBRARY_NAME).read('ra_kpi_joined', query_builder=q).data)"
   ]
  },
  {
   "cell_type": "code",
   "execution_count": null,
   "metadata": {},
   "outputs": [],
   "source": [
    "rf.get_library(LIBRARY_NAME).write(\n",
    "        symbols.RA_SALES_JOIN,\n",
    "        filtered_ra_trx.join(\n",
    "            filtered_sales_trx,\n",
    "            on=[\"ITEMID\", \"channel\", \"INVENTLOCATIONID\"],\n",
    "            how=\"left\"\n",
    "        ).collect().to_pandas()\n",
    "    )"
   ]
  }
 ],
 "metadata": {
  "kernelspec": {
   "display_name": "Python 3",
   "language": "python",
   "name": "python3"
  },
  "language_info": {
   "codemirror_mode": {
    "name": "ipython",
    "version": 3
   },
   "file_extension": ".py",
   "mimetype": "text/x-python",
   "name": "python",
   "nbconvert_exporter": "python",
   "pygments_lexer": "ipython3",
   "version": "3.10.12"
  }
 },
 "nbformat": 4,
 "nbformat_minor": 2
}
